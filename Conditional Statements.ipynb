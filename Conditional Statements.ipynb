{
 "cells": [
  {
   "cell_type": "code",
   "execution_count": null,
   "metadata": {},
   "outputs": [],
   "source": [
    "#https://www.w3schools.com/python/python_conditions.asp"
   ]
  },
  {
   "cell_type": "code",
   "execution_count": null,
   "metadata": {},
   "outputs": [],
   "source": [
    "\n",
    "#Boolean Data type\n",
    "#Comparison operator\n",
    "#Logical operator\n",
    "#Indentation\n",
    "\n",
    "#Membership operator\n",
    "\n",
    "#Conditional stmts: if elif else\n",
    "\n",
    "#any all\n"
   ]
  },
  {
   "cell_type": "code",
   "execution_count": null,
   "metadata": {},
   "outputs": [],
   "source": [
    "#Boolean Data type\n",
    "\n",
    "#True\n",
    "#False\n",
    "\n",
    "bool()\n",
    "\n",
    "The only input for Conditional stmt is ===> Boolean Data type"
   ]
  },
  {
   "cell_type": "code",
   "execution_count": null,
   "metadata": {},
   "outputs": [],
   "source": [
    "#comparison operator\n",
    "\n",
    "\n",
    "==  ==> equals\n",
    "\n",
    "!=\n",
    "<\n",
    ">\n",
    "<=\n",
    ">=\n",
    "\n"
   ]
  },
  {
   "cell_type": "code",
   "execution_count": 1,
   "metadata": {},
   "outputs": [
    {
     "name": "stdout",
     "output_type": "stream",
     "text": [
      "False\n",
      "True\n",
      "False\n",
      "True\n"
     ]
    }
   ],
   "source": [
    "print(10 > 12)\n",
    "\n",
    "print(10 < 12)\n",
    "\n",
    "print(10 == 12)\n",
    "\n",
    "print(10 != 12)"
   ]
  },
  {
   "cell_type": "code",
   "execution_count": null,
   "metadata": {},
   "outputs": [],
   "source": [
    "=   ===> Assignment operator\n",
    "\n",
    "var1 = 10\n",
    "var2 = False"
   ]
  },
  {
   "cell_type": "code",
   "execution_count": 4,
   "metadata": {},
   "outputs": [
    {
     "name": "stdout",
     "output_type": "stream",
     "text": [
      "True\n",
      "True\n",
      "False\n"
     ]
    }
   ],
   "source": [
    "#Logical operator\n",
    "\n",
    "#AND (all of them True then True otherwise False)\n",
    "\n",
    "print(10 > 8 and 10 != 5)\n",
    "\n",
    "\n",
    "#OR (all of them False then False otherwise True)\n",
    "\n",
    "print(10 > 12 or 5 < 8)\n",
    "print(10 > 12 and 5 < 8)"
   ]
  },
  {
   "cell_type": "code",
   "execution_count": 8,
   "metadata": {},
   "outputs": [
    {
     "name": "stdout",
     "output_type": "stream",
     "text": [
      "True\n",
      "False\n",
      "True\n",
      "True\n"
     ]
    }
   ],
   "source": [
    "#Membership operator (in)\n",
    "\n",
    "print(\"a\" in \"aeiou\")\n",
    "print(\"abc\" in \"abracadabra\")\n",
    "\n",
    "print(3 in [1,2,3,4,5,6,7])\n",
    "\n",
    "print(\"y\" not in \"abcd\")\n"
   ]
  },
  {
   "cell_type": "markdown",
   "metadata": {},
   "source": [
    "## Conditional Statements"
   ]
  },
  {
   "cell_type": "code",
   "execution_count": 9,
   "metadata": {},
   "outputs": [],
   "source": [
    "## Indentation"
   ]
  },
  {
   "cell_type": "code",
   "execution_count": null,
   "metadata": {},
   "outputs": [],
   "source": [
    "#other languages\n",
    "\n",
    "if (condition){\n",
    "    \n",
    "    <code1>\n",
    "    <code2>\n",
    "    ....\n",
    "}"
   ]
  },
  {
   "cell_type": "code",
   "execution_count": 10,
   "metadata": {},
   "outputs": [
    {
     "name": "stdout",
     "output_type": "stream",
     "text": [
      "success\n",
      "inside if contion\n",
      "main part of the program outside indentation\n"
     ]
    }
   ],
   "source": [
    "a = 10\n",
    "\n",
    "if a > 5: #open brace #scope starting point #{\n",
    "    print(\"success\")\n",
    "    print(\"inside if contion\") #closed brace #scope ending oint }\n",
    "print(\"main part of the program outside indentation\")"
   ]
  },
  {
   "cell_type": "code",
   "execution_count": null,
   "metadata": {},
   "outputs": [],
   "source": [
    "#if\n",
    "#if else\n",
    "#if elif elif elif elif ....\n",
    "#if elif elif elif .... n times elif ... else"
   ]
  },
  {
   "cell_type": "code",
   "execution_count": null,
   "metadata": {},
   "outputs": [],
   "source": [
    "#Check whether a number is odd or even\n",
    "\n",
    "a = 9\n",
    "\n",
    "if a % 2 == 0:\n",
    "    print(\"even\")\n",
    "else:\n",
    "    print(\"odd\")"
   ]
  },
  {
   "cell_type": "code",
   "execution_count": 13,
   "metadata": {},
   "outputs": [
    {
     "name": "stdout",
     "output_type": "stream",
     "text": [
      "Its zero\n"
     ]
    }
   ],
   "source": [
    "a = 0\n",
    "\n",
    "if a > 0:\n",
    "    print(\"positive\")\n",
    "elif a < 0:\n",
    "    print(\"Negative\")\n",
    "else:\n",
    "    print(\"Its zero\")"
   ]
  },
  {
   "cell_type": "code",
   "execution_count": null,
   "metadata": {},
   "outputs": [],
   "source": []
  },
  {
   "cell_type": "code",
   "execution_count": null,
   "metadata": {},
   "outputs": [],
   "source": []
  }
 ],
 "metadata": {
  "kernelspec": {
   "display_name": "Python 3",
   "language": "python",
   "name": "python3"
  },
  "language_info": {
   "codemirror_mode": {
    "name": "ipython",
    "version": 3
   },
   "file_extension": ".py",
   "mimetype": "text/x-python",
   "name": "python",
   "nbconvert_exporter": "python",
   "pygments_lexer": "ipython3",
   "version": "3.7.6"
  }
 },
 "nbformat": 4,
 "nbformat_minor": 4
}
