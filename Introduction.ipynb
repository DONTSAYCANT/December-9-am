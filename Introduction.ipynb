{
 "cells": [
  {
   "cell_type": "code",
   "execution_count": null,
   "metadata": {},
   "outputs": [],
   "source": [
    "#laptop not mobile\n",
    "\n",
    "#\"join now\"\n",
    "\n",
    "#9 am to 9.45 am\n",
    "\n",
    "#2 months\n",
    "\n",
    "#Python installation\n",
    "\n",
    "#Req1:\n",
    "\n",
    "#IDE\n",
    "\n",
    "#IDLE / Pycharm / Jupyter \n",
    "#https://www.python.org/downloads/\n",
    "\n",
    "\n",
    "#Req2:\n",
    "\n",
    "#Hackerrank\n",
    "\n",
    "#https://www.hackerrank.com/\n",
    "\n",
    "#Req 3:\n",
    "\n",
    "#Github \n",
    "\n",
    "https://github.com/DONTSAYCANT  #versioned controlled storage\n",
    "\n",
    "#https://github.com/\n",
    "\n",
    "https://github.com/DONTSAYCANT/December-9-am\n"
   ]
  },
  {
   "cell_type": "code",
   "execution_count": null,
   "metadata": {},
   "outputs": [],
   "source": [
    "#Daily task (3- 5 pgms)\n",
    "\n",
    "#Daily pre study \n",
    "\n",
    "#3 Test (programming + mcq )\n",
    "\n",
    "#3-5 projects \n",
    "\n",
    "#recording "
   ]
  },
  {
   "cell_type": "markdown",
   "metadata": {},
   "source": [
    "## Class 1: Introduction to python"
   ]
  },
  {
   "cell_type": "code",
   "execution_count": null,
   "metadata": {},
   "outputs": [],
   "source": [
    "#Why Python ?\n",
    "\n",
    "\n",
    "#Advantages of python ? \n",
    "\n",
    "#Simple and easy to understand (syntax simplicity)\n",
    "#no of lines less compared to other languages\n",
    "\n",
    "\n",
    "#Rich library\n",
    "\n",
    "#Lot of domains Data science   ===>  R\n",
    "\n",
    "#Free and open source\n",
    "\n",
    "#Interpreter  ===> Line by line\n",
    "\n",
    "#vs Compiler \n",
    "\n",
    "#R ==> \n",
    "\n",
    "#Cloud resources : boto3\n",
    "\n"
   ]
  },
  {
   "cell_type": "code",
   "execution_count": null,
   "metadata": {},
   "outputs": [],
   "source": []
  },
  {
   "cell_type": "code",
   "execution_count": null,
   "metadata": {},
   "outputs": [],
   "source": [
    "val = 10\n",
    "x = 10.004\n",
    "\n",
    "int a = 10\n",
    "float b = 10.005"
   ]
  },
  {
   "cell_type": "code",
   "execution_count": 4,
   "metadata": {},
   "outputs": [
    {
     "name": "stdout",
     "output_type": "stream",
     "text": [
      "10\n",
      "<class 'int'>\n",
      "10.004\n",
      "<class 'float'>\n"
     ]
    }
   ],
   "source": [
    "val = 10\n",
    "print(val)\n",
    "print(type(val))\n",
    "\n",
    "\n",
    "x = 10.004\n",
    "print(x)\n",
    "print(type(x))\n"
   ]
  },
  {
   "cell_type": "code",
   "execution_count": null,
   "metadata": {},
   "outputs": [],
   "source": [
    "if condition  function class\n",
    "{\n",
    "    \n",
    "    \n",
    "}"
   ]
  },
  {
   "cell_type": "code",
   "execution_count": null,
   "metadata": {},
   "outputs": [],
   "source": [
    "#Variable\n",
    "\n",
    "#Location to store something\n",
    "#Rules for variable creation\n",
    "\n",
    "\n",
    "#Data type\n",
    "\n",
    "\n",
    "#operator + / * - // ** %\n",
    "\n",
    "#Functions\n",
    "\n",
    "\n",
    "#Module / library\n",
    "\n",
    "\n",
    "\n",
    "#Data structure\n",
    "\n",
    "\n",
    "\n",
    "\n",
    "#conditions\n",
    "\n",
    "\n",
    "#Loops\n"
   ]
  },
  {
   "cell_type": "code",
   "execution_count": 14,
   "metadata": {},
   "outputs": [
    {
     "ename": "SyntaxError",
     "evalue": "invalid syntax (<ipython-input-14-166babb33058>, line 22)",
     "output_type": "error",
     "traceback": [
      "\u001b[1;36m  File \u001b[1;32m\"<ipython-input-14-166babb33058>\"\u001b[1;36m, line \u001b[1;32m22\u001b[0m\n\u001b[1;33m    1var = 20\u001b[0m\n\u001b[1;37m       ^\u001b[0m\n\u001b[1;31mSyntaxError\u001b[0m\u001b[1;31m:\u001b[0m invalid syntax\n"
     ]
    }
   ],
   "source": [
    "#Variable creation\n",
    "\n",
    "\n",
    "#Give useful name\n",
    "\n",
    "file_name = \"/tools/dev/file1.txt\"\n",
    "\n",
    "x = \"/tools/dev/file1.txt\"\n",
    "\n",
    "#Variable can have a-z A-Z 0-9 _\n",
    "\n",
    "file_nameDDD1 = \"file\"\n",
    "\n",
    "var222 = \"20\"\n",
    "\n",
    "#variable should start with a-z or A-Z or _ (Dont start with 0-9)\n",
    "\n",
    "var1 = 200\n",
    "\n",
    "_var = 20\n",
    "\n",
    "1var = 20\n",
    "\n",
    "\n",
    "\n",
    "#Dont use special chars\n",
    "\n",
    "#file_nameDDD1$ = \"file\"\n",
    "\n",
    "\n"
   ]
  },
  {
   "cell_type": "code",
   "execution_count": 16,
   "metadata": {},
   "outputs": [
    {
     "name": "stdout",
     "output_type": "stream",
     "text": [
      "20\n",
      "21\n"
     ]
    }
   ],
   "source": [
    "#variables are case sensitive\n",
    "\n",
    "a = 100\n",
    "A = 20\n",
    "\n",
    "\n",
    "var= 20\n",
    "vAr = 21\n",
    "\n",
    "print(var)\n",
    "print(vAr)\n"
   ]
  },
  {
   "cell_type": "code",
   "execution_count": null,
   "metadata": {},
   "outputs": [],
   "source": [
    "#variable creation rules\n",
    "\n",
    "\n",
    "#Give useful name\n"
   ]
  },
  {
   "cell_type": "code",
   "execution_count": null,
   "metadata": {},
   "outputs": [],
   "source": [
    "#library / modules\n",
    "\n",
    "\n",
    "#variables\n",
    "\n",
    "\n",
    "\n",
    "#Functions\n",
    "\n",
    "\n",
    "#Main program"
   ]
  },
  {
   "cell_type": "code",
   "execution_count": null,
   "metadata": {},
   "outputs": [],
   "source": []
  },
  {
   "cell_type": "code",
   "execution_count": null,
   "metadata": {},
   "outputs": [],
   "source": []
  },
  {
   "cell_type": "code",
   "execution_count": null,
   "metadata": {},
   "outputs": [],
   "source": []
  },
  {
   "cell_type": "code",
   "execution_count": null,
   "metadata": {},
   "outputs": [],
   "source": []
  },
  {
   "cell_type": "code",
   "execution_count": null,
   "metadata": {},
   "outputs": [],
   "source": []
  },
  {
   "cell_type": "code",
   "execution_count": null,
   "metadata": {},
   "outputs": [],
   "source": []
  },
  {
   "cell_type": "code",
   "execution_count": null,
   "metadata": {},
   "outputs": [],
   "source": []
  },
  {
   "cell_type": "code",
   "execution_count": null,
   "metadata": {},
   "outputs": [],
   "source": []
  }
 ],
 "metadata": {
  "kernelspec": {
   "display_name": "Python 3",
   "language": "python",
   "name": "python3"
  },
  "language_info": {
   "codemirror_mode": {
    "name": "ipython",
    "version": 3
   },
   "file_extension": ".py",
   "mimetype": "text/x-python",
   "name": "python",
   "nbconvert_exporter": "python",
   "pygments_lexer": "ipython3",
   "version": "3.7.6"
  }
 },
 "nbformat": 4,
 "nbformat_minor": 4
}
