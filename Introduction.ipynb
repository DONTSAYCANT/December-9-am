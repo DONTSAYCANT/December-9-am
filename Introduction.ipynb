{
 "cells": [
  {
   "cell_type": "code",
   "execution_count": null,
   "metadata": {},
   "outputs": [],
   "source": [
    "#laptop not mobile\n",
    "\n",
    "#\"join now\"\n",
    "\n",
    "#9 am to 9.45 am\n",
    "\n",
    "#2 months\n",
    "\n",
    "#Python installation\n",
    "\n",
    "#Req1:\n",
    "\n",
    "#IDE\n",
    "\n",
    "#IDLE / Pycharm / Jupyter \n",
    "#https://www.python.org/downloads/\n",
    "\n",
    "\n",
    "#Req2:\n",
    "\n",
    "#Hackerrank\n",
    "\n",
    "#https://www.hackerrank.com/\n",
    "\n",
    "#Req 3:\n",
    "\n",
    "#Github \n",
    "\n",
    "https://github.com/DONTSAYCANT  #versioned controlled storage\n",
    "\n",
    "#https://github.com/\n",
    "\n",
    "https://github.com/DONTSAYCANT/December-9-am\n"
   ]
  }
 ],
 "metadata": {
  "kernelspec": {
   "display_name": "Python 3",
   "language": "python",
   "name": "python3"
  },
  "language_info": {
   "codemirror_mode": {
    "name": "ipython",
    "version": 3
   },
   "file_extension": ".py",
   "mimetype": "text/x-python",
   "name": "python",
   "nbconvert_exporter": "python",
   "pygments_lexer": "ipython3",
   "version": "3.7.6"
  }
 },
 "nbformat": 4,
 "nbformat_minor": 4
}
