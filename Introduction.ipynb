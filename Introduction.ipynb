{
 "cells": [
  {
   "cell_type": "code",
   "execution_count": null,
   "metadata": {},
   "outputs": [],
   "source": [
    "#laptop not mobile\n",
    "\n",
    "#\"join now\"\n",
    "\n",
    "#9 am to 9.45 am\n",
    "\n",
    "#2 months\n",
    "\n",
    "#Python installation\n",
    "\n",
    "#Req1:\n",
    "\n",
    "#IDE\n",
    "\n",
    "#IDLE / Pycharm / Jupyter \n",
    "#https://www.python.org/downloads/\n",
    "\n",
    "\n",
    "#Req2:\n",
    "\n",
    "#Hackerrank\n",
    "\n",
    "#https://www.hackerrank.com/\n",
    "\n",
    "#Req 3:\n",
    "\n",
    "#Github \n",
    "\n",
    "https://github.com/DONTSAYCANT  #versioned controlled storage\n",
    "\n",
    "#https://github.com/\n",
    "\n",
    "https://github.com/DONTSAYCANT/December-9-am\n"
   ]
  },
  {
   "cell_type": "code",
   "execution_count": null,
   "metadata": {},
   "outputs": [],
   "source": [
    "#Daily task (3- 5 pgms)\n",
    "\n",
    "#Daily pre study \n",
    "\n",
    "#3 Test (programming + mcq )\n",
    "\n",
    "#3-5 projects \n",
    "\n",
    "#recording "
   ]
  },
  {
   "cell_type": "markdown",
   "metadata": {},
   "source": [
    "## Class 1: Introduction to python"
   ]
  },
  {
   "cell_type": "code",
   "execution_count": null,
   "metadata": {},
   "outputs": [],
   "source": [
    "#Why Python ?\n",
    "\n",
    "\n",
    "#Advantages of python ? \n",
    "\n",
    "#Simple and easy to understand (syntax simplicity)\n",
    "#no of lines less compared to other languages\n",
    "\n",
    "\n",
    "#Rich library\n",
    "\n",
    "#Lot of domains Data science   ===>  R\n",
    "\n",
    "#Free and open source\n",
    "\n",
    "#Interpreter  ===> Line by line\n",
    "\n",
    "#vs Compiler \n",
    "\n",
    "#R ==> \n",
    "\n",
    "#Cloud resources : boto3\n",
    "\n"
   ]
  },
  {
   "cell_type": "code",
   "execution_count": null,
   "metadata": {},
   "outputs": [],
   "source": []
  },
  {
   "cell_type": "code",
   "execution_count": null,
   "metadata": {},
   "outputs": [],
   "source": [
    "val = 10\n",
    "x = 10.004\n",
    "\n",
    "int a = 10\n",
    "float b = 10.005"
   ]
  },
  {
   "cell_type": "code",
   "execution_count": 4,
   "metadata": {},
   "outputs": [
    {
     "name": "stdout",
     "output_type": "stream",
     "text": [
      "10\n",
      "<class 'int'>\n",
      "10.004\n",
      "<class 'float'>\n"
     ]
    }
   ],
   "source": [
    "val = 10\n",
    "print(val)\n",
    "print(type(val))\n",
    "\n",
    "\n",
    "x = 10.004\n",
    "print(x)\n",
    "print(type(x))\n"
   ]
  },
  {
   "cell_type": "code",
   "execution_count": null,
   "metadata": {},
   "outputs": [],
   "source": [
    "if condition  function class\n",
    "{\n",
    "    \n",
    "    \n",
    "}"
   ]
  },
  {
   "cell_type": "code",
   "execution_count": null,
   "metadata": {},
   "outputs": [],
   "source": [
    "#Variable\n",
    "\n",
    "#Location to store something\n",
    "#Rules for variable creation\n",
    "\n",
    "\n",
    "#Data type (type)\n",
    "\n",
    "#int\n",
    "#float\n",
    "#bool\n",
    "#char/str\n",
    "#complex: 12 + 3j\n",
    "\n",
    "int\n",
    "\n",
    "12\n",
    "\n",
    "Float : decimal \n",
    "13.009\n",
    "\n",
    "Bool\n",
    "True\n",
    "False\n",
    "\n",
    "str (collection of chars): char (single letter): \n",
    "\"Global data type\"       \n",
    "\n",
    "\"a\"\n",
    "\"b\"\n",
    "\"z\"\n",
    "\"python\"\n",
    "\"9.999\"\n",
    "\n",
    "\n",
    "\n"
   ]
  },
  {
   "cell_type": "code",
   "execution_count": 14,
   "metadata": {},
   "outputs": [
    {
     "ename": "SyntaxError",
     "evalue": "invalid syntax (<ipython-input-14-166babb33058>, line 22)",
     "output_type": "error",
     "traceback": [
      "\u001b[1;36m  File \u001b[1;32m\"<ipython-input-14-166babb33058>\"\u001b[1;36m, line \u001b[1;32m22\u001b[0m\n\u001b[1;33m    1var = 20\u001b[0m\n\u001b[1;37m       ^\u001b[0m\n\u001b[1;31mSyntaxError\u001b[0m\u001b[1;31m:\u001b[0m invalid syntax\n"
     ]
    }
   ],
   "source": [
    "#Variable creation\n",
    "\n",
    "\n",
    "#Give useful name\n",
    "\n",
    "file_name = \"/tools/dev/file1.txt\"\n",
    "\n",
    "x = \"/tools/dev/file1.txt\"\n",
    "\n",
    "#Variable can have a-z A-Z 0-9 _\n",
    "\n",
    "file_nameDDD1 = \"file\"\n",
    "\n",
    "var222 = \"20\"\n",
    "\n",
    "#variable should start with a-z or A-Z or _ (Dont start with 0-9)\n",
    "\n",
    "var1 = 200\n",
    "\n",
    "_var = 20\n",
    "\n",
    "1var = 20\n",
    "\n",
    "\n",
    "\n",
    "#Dont use special chars\n",
    "\n",
    "#file_nameDDD1$ = \"file\"\n",
    "\n",
    "\n"
   ]
  },
  {
   "cell_type": "code",
   "execution_count": 16,
   "metadata": {},
   "outputs": [
    {
     "name": "stdout",
     "output_type": "stream",
     "text": [
      "20\n",
      "21\n"
     ]
    }
   ],
   "source": [
    "#variables are case sensitive\n",
    "\n",
    "a = 100\n",
    "A = 20\n",
    "\n",
    "\n",
    "var= 20\n",
    "vAr = 21\n",
    "\n",
    "print(var)\n",
    "print(vAr)\n",
    "\n",
    "\n",
    "#variable creation rules\n",
    "\n",
    "\n",
    "#Give useful name"
   ]
  },
  {
   "cell_type": "code",
   "execution_count": 9,
   "metadata": {},
   "outputs": [
    {
     "name": "stdout",
     "output_type": "stream",
     "text": [
      "<class 'int'>\n",
      "<class 'float'>\n",
      "<class 'str'>\n",
      "<class 'float'>\n",
      "<class 'bool'>\n",
      "<class 'complex'>\n",
      "20.0\n",
      "3.0\n"
     ]
    }
   ],
   "source": [
    "#Type function / Data type\n",
    "\n",
    "a = 20\n",
    "\n",
    "print(type(a))\n",
    "\n",
    "a = 21.009\n",
    "\n",
    "print(type(a))\n",
    "\n",
    "a = '20'\n",
    "\n",
    "print(type(a))\n",
    "\n",
    "a = 21.009\n",
    "\n",
    "print(type(a))\n",
    "\n",
    "b = True #string is global data type\n",
    "\n",
    "print(type(b))\n",
    "\n",
    "c = 20 + 3j\n",
    "\n",
    "print(type(c))\n",
    "print(c.real)\n",
    "print(c.imag)"
   ]
  },
  {
   "cell_type": "code",
   "execution_count": 21,
   "metadata": {},
   "outputs": [
    {
     "name": "stdout",
     "output_type": "stream",
     "text": [
      "hello\n",
      "python\n",
      "value\n",
      "10.99\n",
      "Welcome to python programming\n",
      "hello\n"
     ]
    }
   ],
   "source": [
    "#print function\n",
    "\n",
    "\n",
    "#Function: #Inbuilt function  #User def function\n",
    "\n",
    "#Function Def ==> Functionality or process ==> 1 time process\n",
    "#Function call ==> multiple calls \n",
    "\n",
    "\n",
    "#1000\n",
    "#\n",
    "\n",
    "#print\n",
    "hello = \"Welcome to python programming\"\n",
    "\n",
    "print(\"hello\") #inbuilt function #function call\n",
    "print(\"python\")\n",
    "print(\"value\")\n",
    "\n",
    "a = 10.99\n",
    "print(a)\n",
    "\n",
    "print(hello) #varible or function\n",
    "print(\"hello\")"
   ]
  },
  {
   "cell_type": "code",
   "execution_count": 28,
   "metadata": {},
   "outputs": [
    {
     "name": "stdout",
     "output_type": "stream",
     "text": [
      "hello\n",
      "hello\n",
      "i'm fine\n",
      "i'm fine i am going to use my \"reward\" this time \n",
      "hi hello\n",
      "      welcome to python\n",
      "      world\n",
      "      \n",
      "      This is explanation for triple quote\n",
      "      \n",
      "      \n",
      "\n",
      "hi hello\n",
      "      welcome to python\n",
      "      world\n",
      "      \n",
      "      This is explanation for triple quote\n",
      "\n",
      "\n"
     ]
    }
   ],
   "source": [
    "#single quote and double quote , triple single/double quote, escape seq \\\n",
    "\n",
    "print(\"hello\")\n",
    "print('hello')\n",
    "\n",
    "print(\"i'm fine\")\n",
    "\n",
    "print(\"i\\'m fine i am going to use my \\\"reward\\\" this time \") #escape sequence\n",
    "\n",
    "\n",
    "print('''hi hello\n",
    "      welcome to python\n",
    "      world\n",
    "      \n",
    "      This is explanation for triple quote\n",
    "      \n",
    "      ''')\n",
    "\n",
    "\n",
    "print(\"\"\"\n",
    "hi hello\n",
    "      welcome to python\n",
    "      world\n",
    "      \n",
    "      This is explanation for triple quote\n",
    "\n",
    "\"\"\")"
   ]
  },
  {
   "cell_type": "code",
   "execution_count": 31,
   "metadata": {},
   "outputs": [
    {
     "name": "stdout",
     "output_type": "stream",
     "text": [
      "hello\n",
      "value\n",
      "python\n"
     ]
    }
   ],
   "source": [
    "#print with sep and end arguments\n",
    "\n",
    "#default end paramter : end='\\n'\n",
    "\n",
    "print(\"hello\") #print(\"hello\",end='\\n')\n",
    "print(\"value\")\n",
    "print(\"python\")"
   ]
  },
  {
   "cell_type": "code",
   "execution_count": 32,
   "metadata": {},
   "outputs": [
    {
     "name": "stdout",
     "output_type": "stream",
     "text": [
      "hello\tpython\n"
     ]
    }
   ],
   "source": [
    "print(\"hello\",end='\\t')\n",
    "print(\"python\")"
   ]
  },
  {
   "cell_type": "code",
   "execution_count": 33,
   "metadata": {},
   "outputs": [
    {
     "name": "stdout",
     "output_type": "stream",
     "text": [
      "hello\tpython*"
     ]
    }
   ],
   "source": [
    "print(\"hello\",end='\\t')\n",
    "print(\"python\", end=\"*\")"
   ]
  },
  {
   "cell_type": "code",
   "execution_count": 37,
   "metadata": {},
   "outputs": [
    {
     "name": "stdout",
     "output_type": "stream",
     "text": [
      "apple%%hello%%python%%bbbb\n"
     ]
    }
   ],
   "source": [
    "print(\"apple\",\"hello\",\"python\",\"bbbb\", sep=\"%%\")"
   ]
  },
  {
   "cell_type": "code",
   "execution_count": 18,
   "metadata": {},
   "outputs": [
    {
     "ename": "NameError",
     "evalue": "name 'multiply_values1' is not defined",
     "output_type": "error",
     "traceback": [
      "\u001b[1;31m---------------------------------------------------------------------------\u001b[0m",
      "\u001b[1;31mNameError\u001b[0m                                 Traceback (most recent call last)",
      "\u001b[1;32m<ipython-input-18-a37c1546c17a>\u001b[0m in \u001b[0;36m<module>\u001b[1;34m\u001b[0m\n\u001b[1;32m----> 1\u001b[1;33m \u001b[0mprint\u001b[0m\u001b[1;33m(\u001b[0m\u001b[0mmultiply_values1\u001b[0m\u001b[1;33m(\u001b[0m\u001b[1;36m10\u001b[0m\u001b[1;33m,\u001b[0m\u001b[1;36m5\u001b[0m\u001b[1;33m)\u001b[0m\u001b[1;33m)\u001b[0m\u001b[1;33m\u001b[0m\u001b[1;33m\u001b[0m\u001b[0m\n\u001b[0m\u001b[0;32m      2\u001b[0m \u001b[0mprint\u001b[0m\u001b[1;33m(\u001b[0m\u001b[0mmultiply_values1\u001b[0m\u001b[1;33m(\u001b[0m\u001b[1;36m8\u001b[0m\u001b[1;33m,\u001b[0m\u001b[1;36m3\u001b[0m\u001b[1;33m)\u001b[0m\u001b[1;33m)\u001b[0m\u001b[1;33m\u001b[0m\u001b[1;33m\u001b[0m\u001b[0m\n\u001b[0;32m      3\u001b[0m \u001b[0mprint\u001b[0m\u001b[1;33m(\u001b[0m\u001b[0mmultiply_values1\u001b[0m\u001b[1;33m(\u001b[0m\u001b[1;36m2\u001b[0m\u001b[1;33m,\u001b[0m\u001b[1;36m5\u001b[0m\u001b[1;33m)\u001b[0m\u001b[1;33m)\u001b[0m\u001b[1;33m\u001b[0m\u001b[1;33m\u001b[0m\u001b[0m\n",
      "\u001b[1;31mNameError\u001b[0m: name 'multiply_values1' is not defined"
     ]
    }
   ],
   "source": [
    "\n",
    "print(multiply_values1(10,5))\n",
    "print(multiply_values1(8,3))\n",
    "print(multiply_values1(2,5))"
   ]
  },
  {
   "cell_type": "code",
   "execution_count": null,
   "metadata": {},
   "outputs": [],
   "source": [
    "#library / modules\n",
    "\n",
    "\n",
    "#Main program\n",
    "\n",
    "#operator + / * - // ** %\n",
    "\n",
    "#Data structure\n"
   ]
  },
  {
   "cell_type": "code",
   "execution_count": null,
   "metadata": {},
   "outputs": [],
   "source": [
    "#How to execute pgms ?\n",
    "\n",
    "#IDLE\n",
    "\n",
    "#Install\n",
    "\n",
    "#Confirmation ? \n",
    "\n",
    "#Execute"
   ]
  },
  {
   "cell_type": "code",
   "execution_count": 6,
   "metadata": {},
   "outputs": [
    {
     "name": "stdout",
     "output_type": "stream",
     "text": [
      "Hello world\n",
      "This is explantion for comments\n",
      "30\n"
     ]
    }
   ],
   "source": [
    "#Comments #single line comment and multi line comments\n",
    "\n",
    "#Comments ==> adding comments and adding documentation\n",
    "## means ===> line will not execute\n",
    "\n",
    "\n",
    "#Multi line comment or Doc strings\n",
    "\n",
    "\n",
    "#single line comment\n",
    "print(\"Hello world\")\n",
    "\n",
    "#This is for single line comment execution\n",
    "print(\"This is explantion for comments\")\n",
    "\n",
    "#This is for addition of two variables\n",
    "c = 10 + 20\n",
    "\n",
    "'''\n",
    "a = 10\n",
    "b = 30\n",
    "print(\"hello\")\n",
    "c = a * b\n",
    "\n",
    "'''\n",
    "\n",
    "\"\"\"\n",
    "print(\"python multi line comments\")\n",
    "\"\"\"\n",
    "#print(type(c))\n",
    "print(c)\n",
    "\n",
    "#Multi line comment"
   ]
  },
  {
   "cell_type": "code",
   "execution_count": 10,
   "metadata": {},
   "outputs": [
    {
     "name": "stdout",
     "output_type": "stream",
     "text": [
      "16\n",
      "8\n",
      "3.5\n",
      "90\n",
      "81\n",
      "-32\n",
      "1\n",
      "2\n",
      "5\n"
     ]
    }
   ],
   "source": [
    "#operator + / * - // ** %\n",
    "\n",
    "\n",
    "#+ - * / // **  %\n",
    "\n",
    "\n",
    "\n",
    "print(10 + 6) #add\n",
    "print(17 - 9) #sub\n",
    "print(7 / 2) #div\n",
    "print(18 * 5) #muliplication\n",
    "\n",
    "#**  power operation\n",
    "\n",
    "print(3 ** 4)\n",
    "print(-2 ** 5)\n",
    "\n",
    "#%  Modulus operator\n",
    "\n",
    "#Do divison return the reminder\n",
    "\n",
    "print(7 % 3)\n",
    "print(12 % 5)\n",
    "print(13 % 8)\n",
    "\n"
   ]
  },
  {
   "cell_type": "code",
   "execution_count": 11,
   "metadata": {},
   "outputs": [
    {
     "name": "stdout",
     "output_type": "stream",
     "text": [
      "2\n",
      "1\n",
      "-3\n",
      "-2\n",
      "-1\n",
      "1\n"
     ]
    }
   ],
   "source": [
    "#// Floor divison operator\n",
    "\n",
    "#Do normal division\n",
    "#plot it in number scale\n",
    "#identify the nearby minimum integer\n",
    "\n",
    "\n",
    "print(8 // 3) #2\n",
    "\n",
    "#2.6666\n",
    "#-5 -4 -3 -2 -1 0 1 2 3 4 5\n",
    "#2 and 3\n",
    "#minimum: 2\n",
    "\n",
    "\n",
    "print(7 // 5)  #1\n",
    "\n",
    "print(-8 // 3) #-3\n",
    "\n",
    "#-2.66\n",
    "#-5 -4 -3 -2 -1 0 1 2 3 4 5\n",
    "#-3 and -2\n",
    "#-3\n",
    "\n",
    "print(-7 // 5) #-2\n",
    "\n",
    "print(-1 // 3) #-1\n",
    "\n",
    "print(12 // 8) #1\n",
    "\n"
   ]
  },
  {
   "cell_type": "code",
   "execution_count": 14,
   "metadata": {},
   "outputs": [
    {
     "name": "stdout",
     "output_type": "stream",
     "text": [
      "153\n",
      "<class 'int'>\n"
     ]
    }
   ],
   "source": [
    "#pgms\n",
    "\n",
    "#Conversion of float to int\n",
    "\n",
    "\n",
    "radius = 7\n",
    "pi = 3.14\n",
    "\n",
    "Area = int(pi * radius * radius)\n",
    "\n",
    "print(Area)\n",
    "print(type(Area))\n"
   ]
  },
  {
   "cell_type": "code",
   "execution_count": 15,
   "metadata": {},
   "outputs": [
    {
     "name": "stdout",
     "output_type": "stream",
     "text": [
      "True\n"
     ]
    }
   ],
   "source": [
    "#string to bool conversion\n",
    "\n",
    "a = \"python\"\n",
    "\n",
    "print(bool(a))"
   ]
  },
  {
   "cell_type": "code",
   "execution_count": null,
   "metadata": {},
   "outputs": [],
   "source": [
    "#int / float/ bool / str\n",
    "\n",
    "#int() float()  str()  bool()"
   ]
  },
  {
   "cell_type": "code",
   "execution_count": null,
   "metadata": {},
   "outputs": [],
   "source": [
    "#Data type conversio table"
   ]
  },
  {
   "cell_type": "code",
   "execution_count": 22,
   "metadata": {},
   "outputs": [
    {
     "name": "stdout",
     "output_type": "stream",
     "text": [
      "153\n",
      "The Area of Circle is  153\n",
      "The Area of Circle with radius 7 and pi 3.14 is 153 \n",
      "The Area of Circle with pi 153 and radius 7 is 3.14 \n"
     ]
    }
   ],
   "source": [
    "#with format\n",
    "\n",
    "radius = 7\n",
    "pi = 3.14\n",
    "\n",
    "Area = int(pi * radius * radius)\n",
    "\n",
    "print(Area)\n",
    "print(\"The Area of Circle is \" , Area)\n",
    "print(\"The Area of Circle with radius {} and pi {} is {} \".format(radius, pi, Area))\n",
    "print(\"The Area of Circle with pi {2} and radius {0} is {1} \".format(radius, pi, Area)) #0 1 2"
   ]
  },
  {
   "cell_type": "code",
   "execution_count": null,
   "metadata": {},
   "outputs": [],
   "source": [
    "#input"
   ]
  },
  {
   "cell_type": "code",
   "execution_count": null,
   "metadata": {},
   "outputs": [],
   "source": []
  },
  {
   "cell_type": "code",
   "execution_count": null,
   "metadata": {},
   "outputs": [],
   "source": []
  }
 ],
 "metadata": {
  "kernelspec": {
   "display_name": "Python 3",
   "language": "python",
   "name": "python3"
  },
  "language_info": {
   "codemirror_mode": {
    "name": "ipython",
    "version": 3
   },
   "file_extension": ".py",
   "mimetype": "text/x-python",
   "name": "python",
   "nbconvert_exporter": "python",
   "pygments_lexer": "ipython3",
   "version": "3.7.6"
  }
 },
 "nbformat": 4,
 "nbformat_minor": 4
}
