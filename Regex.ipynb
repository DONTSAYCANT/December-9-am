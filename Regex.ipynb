{
 "cells": [
  {
   "cell_type": "code",
   "execution_count": null,
   "metadata": {},
   "outputs": [],
   "source": [
    "#https://www.programiz.com/python-programming/regex\n",
    "#https://regex101.com/"
   ]
  },
  {
   "cell_type": "code",
   "execution_count": null,
   "metadata": {},
   "outputs": [],
   "source": [
    "#Regex ===> Regular expression\n",
    "\n",
    "#pattern  matching / checking ==> \n",
    "\n",
    "#Part 1\n",
    "\n",
    "\n",
    "#how to write regular expression\n",
    "\n",
    "\n",
    "\\d  ==> digit\n",
    "\\D  ===> except digit\n",
    "\\s ===> space\n",
    "\\S  ===> except space\n",
    "\\w  ==> alpha numeric (a-z A-Z 0-9 _)\n",
    "\\W ==> except alpha nueric\n",
    "\n",
    "\n",
    "\\A ===> start of the string \n",
    "\\Z ==>  end of the string\n",
    "\\b ===> start of every word in the string\n",
    "\\B ==> middle or end of evey word in the string\n",
    "\n",
    "\n",
    "Quantifiers:  \n",
    "    \n",
    "*  0 or more\n",
    "+  1 or more\n",
    "?  0 or 1\n",
    "{}  specific count or range\n",
    "\n",
    "\n",
    "[] ==> single char\n",
    "[^] ==> except the format\n",
    "^  $\n",
    ". ==> any one char except new line\n",
    "{}\n",
    "|\n",
    "\\ escape sequence \n",
    "\n",
    "\n",
    "\n",
    "\n",
    "#Part 2 \n",
    "\n",
    "\n",
    "#By using regex, how get the pattern matched string through python"
   ]
  },
  {
   "cell_type": "code",
   "execution_count": 2,
   "metadata": {},
   "outputs": [
    {
     "name": "stdout",
     "output_type": "stream",
     "text": [
      "['10', '20', '500']\n"
     ]
    }
   ],
   "source": [
    "#findall\n",
    "import re\n",
    "\n",
    "string = \"i have totally 10 dogs and 20 cats along with 500 fishes\"\n",
    "\n",
    "pattern = \"\\d+\"\n",
    "\n",
    "val = re.findall(pattern, string)\n",
    "\n",
    "print(val)"
   ]
  },
  {
   "cell_type": "code",
   "execution_count": 3,
   "metadata": {},
   "outputs": [
    {
     "name": "stdout",
     "output_type": "stream",
     "text": [
      "['i have totally ', ' dogs and ', ' cats along with ', ' fishes']\n"
     ]
    }
   ],
   "source": [
    "#split\n",
    "\n",
    "import re\n",
    "\n",
    "string = \"i have totally 10 dogs and 20 cats along with 500 fishes\"\n",
    "\n",
    "pattern = \"\\d+\"\n",
    "\n",
    "val = re.split(pattern, string)\n",
    "\n",
    "print(val)"
   ]
  },
  {
   "cell_type": "code",
   "execution_count": 5,
   "metadata": {},
   "outputs": [
    {
     "name": "stdout",
     "output_type": "stream",
     "text": [
      "i have totally ** dogs and ** cats along with ** fishes\n"
     ]
    }
   ],
   "source": [
    "#sub\n",
    "\n",
    "import re\n",
    "\n",
    "string = \"i have totally 10 dogs and 20 cats along with 500 fishes\"\n",
    "\n",
    "pattern = \"\\d+\"\n",
    "\n",
    "sub = \"**\"\n",
    "\n",
    "val = re.sub(pattern,sub, string)\n",
    "\n",
    "print(val)"
   ]
  },
  {
   "cell_type": "code",
   "execution_count": 6,
   "metadata": {},
   "outputs": [
    {
     "name": "stdout",
     "output_type": "stream",
     "text": [
      "('i have totally ** dogs and ** cats along with ** fishes', 3)\n"
     ]
    }
   ],
   "source": [
    "#subn\n",
    "\n",
    "\n",
    "import re\n",
    "\n",
    "string = \"i have totally 10 dogs and 20 cats along with 500 fishes\"\n",
    "\n",
    "pattern = \"\\d+\"\n",
    "\n",
    "sub = \"**\"\n",
    "\n",
    "val = re.subn(pattern,sub, string)\n",
    "\n",
    "print(val)"
   ]
  },
  {
   "cell_type": "code",
   "execution_count": 10,
   "metadata": {},
   "outputs": [
    {
     "name": "stdout",
     "output_type": "stream",
     "text": [
      "22-01-2022\n",
      "2022\n",
      "(14, 24)\n",
      "14\n",
      "24\n"
     ]
    }
   ],
   "source": [
    "#search\n",
    "\n",
    "\n",
    "import re\n",
    "\n",
    "string = \"today date is 22-01-2022 and tomorrow date is 23-01-2022\"\n",
    "\n",
    "pattern = \"\\d{2}-\\d{2}-(\\d{4})\"\n",
    "\n",
    "val = re.search(pattern, string)\n",
    "\n",
    "print(val.group())\n",
    "\n",
    "print(val.group(1))\n",
    "\n",
    "print(val.span())\n",
    "\n",
    "print(val.start())\n",
    "\n",
    "print(val.end())"
   ]
  },
  {
   "cell_type": "code",
   "execution_count": null,
   "metadata": {},
   "outputs": [],
   "source": []
  }
 ],
 "metadata": {
  "kernelspec": {
   "display_name": "Python 3",
   "language": "python",
   "name": "python3"
  },
  "language_info": {
   "codemirror_mode": {
    "name": "ipython",
    "version": 3
   },
   "file_extension": ".py",
   "mimetype": "text/x-python",
   "name": "python",
   "nbconvert_exporter": "python",
   "pygments_lexer": "ipython3",
   "version": "3.7.6"
  }
 },
 "nbformat": 4,
 "nbformat_minor": 4
}
