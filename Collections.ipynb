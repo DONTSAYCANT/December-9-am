{
 "cells": [
  {
   "cell_type": "code",
   "execution_count": 4,
   "metadata": {},
   "outputs": [],
   "source": [
    "#https://www.geeksforgeeks.org/python-collections-module/\n",
    "\n",
    "\n",
    "#Collections ==> Adv Ds\n",
    "#Utilities\n",
    "\n",
    "import collections"
   ]
  },
  {
   "cell_type": "code",
   "execution_count": 5,
   "metadata": {},
   "outputs": [
    {
     "name": "stdout",
     "output_type": "stream",
     "text": [
      "Counter({4: 3, 5: 3, 6: 2, 3: 2})\n"
     ]
    }
   ],
   "source": [
    "#Counters\n",
    "\n",
    "Li1 = [4,5,6,6,5,5,4,4,3,3]\n",
    "\n",
    "print(collections.Counter(Li1))"
   ]
  },
  {
   "cell_type": "code",
   "execution_count": 8,
   "metadata": {},
   "outputs": [
    {
     "name": "stdout",
     "output_type": "stream",
     "text": [
      "ChainMap({1: 10, 2: 20, 3: 30}, {4: 40, 2: 200, 3: 300})\n"
     ]
    }
   ],
   "source": [
    "#chainmap\n",
    "\n",
    "dict1 = {1: 10, 2:20, 3:30}\n",
    "\n",
    "dict2 = {4:40, 2:200, 3:300}\n",
    "\n",
    "\n",
    "val = collections.ChainMap(dict1,dict2)\n",
    "\n",
    "print(val)"
   ]
  },
  {
   "cell_type": "code",
   "execution_count": 10,
   "metadata": {},
   "outputs": [
    {
     "name": "stdout",
     "output_type": "stream",
     "text": [
      "[10]\n",
      "[]\n"
     ]
    }
   ],
   "source": [
    "#Deque\n",
    "\n",
    "Li = []\n",
    "\n",
    "Li.append(10)\n",
    "\n",
    "print(Li)\n",
    "\n",
    "Li.pop()\n",
    "\n",
    "print(Li)\n",
    "\n",
    "Li1 = collections.deque()\n",
    "\n",
    "\n",
    "#appendleft\n",
    "#popleft\n",
    "#extendleft\n"
   ]
  },
  {
   "cell_type": "code",
   "execution_count": 11,
   "metadata": {},
   "outputs": [
    {
     "name": "stdout",
     "output_type": "stream",
     "text": [
      "deque([20, 10])\n"
     ]
    }
   ],
   "source": [
    "Li1.appendleft(10)\n",
    "Li1.appendleft(20)\n",
    "\n",
    "print(Li1)\n"
   ]
  },
  {
   "cell_type": "code",
   "execution_count": 12,
   "metadata": {},
   "outputs": [
    {
     "name": "stdout",
     "output_type": "stream",
     "text": [
      "{1: 10}\n",
      "10\n"
     ]
    },
    {
     "ename": "KeyError",
     "evalue": "0",
     "output_type": "error",
     "traceback": [
      "\u001b[1;31m---------------------------------------------------------------------------\u001b[0m",
      "\u001b[1;31mKeyError\u001b[0m                                  Traceback (most recent call last)",
      "\u001b[1;32m<ipython-input-12-b316b5d5a083>\u001b[0m in \u001b[0;36m<module>\u001b[1;34m\u001b[0m\n\u001b[0;32m      8\u001b[0m \u001b[0mprint\u001b[0m\u001b[1;33m(\u001b[0m\u001b[0mdict1\u001b[0m\u001b[1;33m)\u001b[0m\u001b[1;33m\u001b[0m\u001b[1;33m\u001b[0m\u001b[0m\n\u001b[0;32m      9\u001b[0m \u001b[0mprint\u001b[0m\u001b[1;33m(\u001b[0m\u001b[0mdict1\u001b[0m\u001b[1;33m[\u001b[0m\u001b[1;36m1\u001b[0m\u001b[1;33m]\u001b[0m\u001b[1;33m)\u001b[0m\u001b[1;33m\u001b[0m\u001b[1;33m\u001b[0m\u001b[0m\n\u001b[1;32m---> 10\u001b[1;33m \u001b[0mprint\u001b[0m\u001b[1;33m(\u001b[0m\u001b[0mdict1\u001b[0m\u001b[1;33m[\u001b[0m\u001b[1;36m0\u001b[0m\u001b[1;33m]\u001b[0m\u001b[1;33m)\u001b[0m\u001b[1;33m\u001b[0m\u001b[1;33m\u001b[0m\u001b[0m\n\u001b[0m",
      "\u001b[1;31mKeyError\u001b[0m: 0"
     ]
    }
   ],
   "source": [
    "#defaultdict\n",
    "\n",
    "dict1= {}\n",
    "\n",
    "dict1[1] = 10\n",
    "dict2[2] = 20\n",
    "\n",
    "print(dict1)\n",
    "print(dict1[1])\n",
    "print(dict1[0])"
   ]
  },
  {
   "cell_type": "code",
   "execution_count": 14,
   "metadata": {},
   "outputs": [
    {
     "name": "stdout",
     "output_type": "stream",
     "text": [
      "defaultdict(<class 'int'>, {1: 10, 2: 20})\n",
      "10\n",
      "0\n"
     ]
    }
   ],
   "source": [
    "\n",
    "dict1= collections.defaultdict(int)\n",
    "\n",
    "dict1[1] = 10\n",
    "dict1[2] = 20\n",
    "\n",
    "print(dict1)\n",
    "print(dict1[1])\n",
    "print(dict1[0])"
   ]
  },
  {
   "cell_type": "code",
   "execution_count": 15,
   "metadata": {},
   "outputs": [
    {
     "name": "stdout",
     "output_type": "stream",
     "text": [
      "1\n",
      "2\n"
     ]
    }
   ],
   "source": [
    "#namedtuple\n",
    "\n",
    "tup = (1,2,3)\n",
    "\n",
    "print(tup[0])\n",
    "print(tup[1])"
   ]
  },
  {
   "cell_type": "code",
   "execution_count": 20,
   "metadata": {},
   "outputs": [
    {
     "name": "stdout",
     "output_type": "stream",
     "text": [
      "gowtham\n",
      "gowtham\n",
      "15\n"
     ]
    }
   ],
   "source": [
    "Student = collections.namedtuple(\"Student\", \"Name Rollno age DOB\")\n",
    "\n",
    "val1 = Student(\"gowtham\", 121, 15, 12122006)\n",
    "\n",
    "print(val1.Name)\n",
    "print(val1[0])\n",
    "\n",
    "print(val1.age)\n"
   ]
  },
  {
   "cell_type": "code",
   "execution_count": 22,
   "metadata": {},
   "outputs": [
    {
     "name": "stdout",
     "output_type": "stream",
     "text": [
      "OrderedDict([(1, 10), (2, 20)])\n"
     ]
    }
   ],
   "source": [
    "#Ordereddict\n",
    "\n",
    "dict1= collections.OrderedDict()\n",
    "\n",
    "dict1[1] = 10\n",
    "dict1[2] = 20\n",
    "\n",
    "print(dict1)\n",
    "\n",
    "#Order of insertion is maintained ...\n",
    "\n",
    "\n",
    "#{}  ==> \n",
    "\n",
    "\n",
    "\n"
   ]
  },
  {
   "cell_type": "code",
   "execution_count": null,
   "metadata": {},
   "outputs": [],
   "source": []
  },
  {
   "cell_type": "code",
   "execution_count": null,
   "metadata": {},
   "outputs": [],
   "source": []
  },
  {
   "cell_type": "code",
   "execution_count": null,
   "metadata": {},
   "outputs": [],
   "source": []
  },
  {
   "cell_type": "code",
   "execution_count": null,
   "metadata": {},
   "outputs": [],
   "source": []
  }
 ],
 "metadata": {
  "kernelspec": {
   "display_name": "Python 3",
   "language": "python",
   "name": "python3"
  },
  "language_info": {
   "codemirror_mode": {
    "name": "ipython",
    "version": 3
   },
   "file_extension": ".py",
   "mimetype": "text/x-python",
   "name": "python",
   "nbconvert_exporter": "python",
   "pygments_lexer": "ipython3",
   "version": "3.7.6"
  }
 },
 "nbformat": 4,
 "nbformat_minor": 4
}
