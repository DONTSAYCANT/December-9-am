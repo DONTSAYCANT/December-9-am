{
 "cells": [
  {
   "cell_type": "code",
   "execution_count": null,
   "metadata": {},
   "outputs": [],
   "source": [
    "#class 1\n",
    "=========\n",
    "\n",
    "#What's OOPS and its advantages\n",
    "#what's class and object\n",
    "#class attribute / Object Attribute\n",
    "#self parameter\n",
    "#__init__\n",
    "#Constructor  Destructor\n",
    "#static method vs class method\n",
    "\n",
    "\n",
    "#class 2\n",
    "=========\n",
    "\n",
    "#Inheritance\n",
    "#Types of Inheritance\n",
    "#Method overriding\n",
    "#Super function\n",
    "#Diamond shape problem or method resolution order\n",
    "#Abstract class and Abstract method\n",
    "#Polymorphism\n",
    "#Encapsulation"
   ]
  },
  {
   "cell_type": "code",
   "execution_count": null,
   "metadata": {},
   "outputs": [],
   "source": [
    "#Object Oriented Programming ?\n",
    "\n",
    "Types:\n",
    "    \n",
    "Functional Programming  ===> variable , functions\n",
    "\n",
    "Object Oriented Programming ==> classes and objects\n",
    "variables ==> attributes ==> variable inside the class\n",
    "Function  ==>  Method ===>  Function inside the class\n",
    "\n",
    "\n",
    "Structure ===> \n",
    "\n",
    "class ==> \n",
    "blue print for object\n",
    "combination of attribute and method\n",
    "\n",
    "Object ===>\n",
    "Instantiation of class\n",
    "Object gives life to class\n",
    "\n",
    "School Admission:\n",
    "    \n",
    "#application form ====> generic ===> class \n",
    "#Student1 ===> object1 (RRRR, 1-1-2000, 21, \"jjjj\")\n",
    "#Student2 ===> object2 (bbbb, 30-12-1999, 22 , \"hhhh\")\n",
    "#student3 ===> object3\n",
    "\n",
    "#Advantage ?\n",
    "\n",
    "#inheritance\n",
    "#abstract class abstract method\n",
    "#encapsulation\n",
    "#generic functionality"
   ]
  },
  {
   "cell_type": "code",
   "execution_count": 1,
   "metadata": {},
   "outputs": [],
   "source": [
    "#class attribute / Object Attribute\n",
    "\n",
    "#class \n",
    "\n",
    "#Object\n",
    "\n",
    "\n",
    "#How to create empty class\n",
    "\n",
    "class School_Admission:\n",
    "    pass\n",
    "\n",
    "student1 = School_Admission()\n",
    "\n",
    "student2 = School_Admission()\n",
    "\n",
    "student3 = School_Admission()"
   ]
  },
  {
   "cell_type": "code",
   "execution_count": 2,
   "metadata": {},
   "outputs": [
    {
     "name": "stdout",
     "output_type": "stream",
     "text": [
      "KVS high school\n",
      "Coimbatore\n"
     ]
    }
   ],
   "source": [
    "#class attribute \n",
    "\n",
    "class School_Admission:\n",
    "    \n",
    "    school_Name = \"KVS high school\"\n",
    "    prin_name = \"JJJJ\"\n",
    "    branch_name = \"Coimbatore\"\n",
    "    \n",
    "\n",
    "student1 =   School_Admission()\n",
    "\n",
    "print(student1.school_Name)\n",
    "print(student1.branch_name)\n",
    "    "
   ]
  },
  {
   "cell_type": "code",
   "execution_count": 3,
   "metadata": {},
   "outputs": [
    {
     "name": "stdout",
     "output_type": "stream",
     "text": [
      "KVS high school\n",
      "Coimbatore\n"
     ]
    }
   ],
   "source": [
    "#Functional pgming\n",
    "school_Name = \"KVS high school\"\n",
    "prin_name = \"JJJJ\"\n",
    "branch_name = \"Coimbatore\"\n",
    "\n",
    "print(school_Name)\n",
    "print(branch_name)"
   ]
  },
  {
   "cell_type": "code",
   "execution_count": 6,
   "metadata": {},
   "outputs": [
    {
     "name": "stdout",
     "output_type": "stream",
     "text": [
      "KVS high school\n",
      "Coimbatore\n",
      "KVS high school\n",
      "Coimbatore\n",
      "Bangalore\n",
      "Coimbatore\n",
      "Bangalore\n",
      "Bihar\n",
      "Bihar\n",
      "Bihar\n"
     ]
    }
   ],
   "source": [
    "#class attribute \n",
    "\n",
    "class School_Admission:\n",
    "    \n",
    "    school_Name = \"KVS high school\"\n",
    "    prin_name = \"JJJJ\"\n",
    "    branch_name = \"Coimbatore\"\n",
    "    \n",
    "\n",
    "student1 =   School_Admission()\n",
    "\n",
    "print(student1.school_Name)\n",
    "print(student1.branch_name)\n",
    "\n",
    "student2 =   School_Admission()\n",
    "\n",
    "print(student2.school_Name)\n",
    "print(student2.branch_name)\n",
    "\n",
    "#change through object\n",
    "\n",
    "student3 =  School_Admission()\n",
    "student4 = School_Admission()\n",
    "\n",
    "#It will affect only object\n",
    "student3.branch_name = \"Bangalore\"\n",
    "\n",
    "print(student3.branch_name)\n",
    "print(student4.branch_name)\n",
    "\n",
    "#change through class\n",
    "\n",
    "School_Admission.branch_name = \"Bihar\"\n",
    "\n",
    "print(student3.branch_name)\n",
    "print(student4.branch_name)\n",
    "print(student2.branch_name)\n",
    "print(student1.branch_name)\n"
   ]
  },
  {
   "cell_type": "code",
   "execution_count": 16,
   "metadata": {},
   "outputs": [
    {
     "name": "stdout",
     "output_type": "stream",
     "text": [
      "<__main__.School_Admission object at 0x0000020B253ED908>\n",
      "your group is assigned\n",
      "<__main__.School_Admission object at 0x0000020B253ED908>\n",
      "your group is assigned\n",
      "<__main__.School_Admission object at 0x0000020B253EDB88>\n",
      "your group is assigned\n",
      "KVS high school\n",
      "KVS high school\n",
      "30\n"
     ]
    }
   ],
   "source": [
    "#Method method call \n",
    "\n",
    "#self\n",
    "\n",
    "#self ===> object \n",
    "\n",
    "class School_Admission:\n",
    "    school_Name = \"KVS high school\"\n",
    "    prin_name = \"JJJJ\"\n",
    "    branch_name = \"Coimbatore\"\n",
    "    \n",
    "    def group_name(self):\n",
    "        print(self)\n",
    "        return \"your group is assigned\"\n",
    "    \n",
    "    def add(self, var1, var2):\n",
    "        print(school_Name)\n",
    "        print(self.school_Name)\n",
    "        return var1+var2\n",
    "    \n",
    "student1 = School_Admission()\n",
    "\n",
    "print(student1.group_name()) #recent way\n",
    "\n",
    "print(School_Admission.group_name(student1)) #traditional way\n",
    "    \n",
    "student2 = School_Admission()\n",
    "print(student2.group_name()) \n",
    "print(student2.add(10,20))"
   ]
  },
  {
   "cell_type": "code",
   "execution_count": null,
   "metadata": {},
   "outputs": [],
   "source": []
  },
  {
   "cell_type": "code",
   "execution_count": null,
   "metadata": {},
   "outputs": [],
   "source": []
  },
  {
   "cell_type": "code",
   "execution_count": 10,
   "metadata": {},
   "outputs": [
    {
     "ename": "TypeError",
     "evalue": "group_name() takes 0 positional arguments but 1 was given",
     "output_type": "error",
     "traceback": [
      "\u001b[1;31m---------------------------------------------------------------------------\u001b[0m",
      "\u001b[1;31mTypeError\u001b[0m                                 Traceback (most recent call last)",
      "\u001b[1;32m<ipython-input-10-455778be09b4>\u001b[0m in \u001b[0;36m<module>\u001b[1;34m\u001b[0m\n\u001b[0;32m     10\u001b[0m \u001b[0mstudent1\u001b[0m \u001b[1;33m=\u001b[0m \u001b[0mSchool_Admission\u001b[0m\u001b[1;33m(\u001b[0m\u001b[1;33m)\u001b[0m\u001b[1;33m\u001b[0m\u001b[1;33m\u001b[0m\u001b[0m\n\u001b[0;32m     11\u001b[0m \u001b[1;33m\u001b[0m\u001b[0m\n\u001b[1;32m---> 12\u001b[1;33m \u001b[0mprint\u001b[0m\u001b[1;33m(\u001b[0m\u001b[0mstudent1\u001b[0m\u001b[1;33m.\u001b[0m\u001b[0mgroup_name\u001b[0m\u001b[1;33m(\u001b[0m\u001b[1;33m)\u001b[0m\u001b[1;33m)\u001b[0m\u001b[1;33m\u001b[0m\u001b[1;33m\u001b[0m\u001b[0m\n\u001b[0m",
      "\u001b[1;31mTypeError\u001b[0m: group_name() takes 0 positional arguments but 1 was given"
     ]
    }
   ],
   "source": [
    "\n",
    "#without self\n",
    "class School_Admission:\n",
    "    school_Name = \"KVS high school\"\n",
    "    prin_name = \"JJJJ\"\n",
    "    branch_name = \"Coimbatore\"\n",
    "    \n",
    "    def group_name():\n",
    "        return \"your group is assigned\"\n",
    "    \n",
    "student1 = School_Admission()\n",
    "\n",
    "print(student1.group_name())"
   ]
  },
  {
   "cell_type": "code",
   "execution_count": null,
   "metadata": {},
   "outputs": [],
   "source": []
  },
  {
   "cell_type": "code",
   "execution_count": null,
   "metadata": {},
   "outputs": [],
   "source": []
  },
  {
   "cell_type": "code",
   "execution_count": null,
   "metadata": {},
   "outputs": [],
   "source": []
  },
  {
   "cell_type": "code",
   "execution_count": 20,
   "metadata": {},
   "outputs": [
    {
     "name": "stdout",
     "output_type": "stream",
     "text": [
      "Constructor called\n",
      "Admission for bob is done, please proceed\n",
      "None\n",
      "Constructor called\n",
      "Admission for Ram is done, please proceed\n",
      "None\n"
     ]
    }
   ],
   "source": [
    "#Object Attribute:`\n",
    "\n",
    "#__init__\n",
    "\n",
    "#constructor\n",
    "#for collecting all object attributes\n",
    "#First function to be called during obejct creation\n",
    "\n",
    "#Constructor types\n",
    "\n",
    "#Parameterised constractor\n",
    "#Non parameterised\n",
    "\n",
    "class School_Admission:\n",
    "    school_Name = \"KVS high school\"\n",
    "    prin_name = \"JJJJ\"\n",
    "    branch_name = \"Coimbatore\"\n",
    "    \n",
    "    def __init__(self, name, DOB, age, parent):\n",
    "        print(\"Constructor called\")\n",
    "        self.name = name\n",
    "        self.DOB = DOB\n",
    "        self.age = age\n",
    "        self.parent = parent\n",
    "        \n",
    "        \n",
    "    def Admission_hostel(self):\n",
    "        print(\"Admission for \" + self.name + \" is done, please proceed\")\n",
    "    \n",
    "\n",
    "student1 =   School_Admission(\"bob\", \"1-1-2000\", 21, \"jjjj\") #object attribute\n",
    "\n",
    "print(student1.Admission_hostel())\n",
    "\n",
    "student2 =  School_Admission(\"Ram\", \"30-12-1999\", 22 , \"hhhh\") #object attribute\n",
    "\n",
    "print(student2.Admission_hostel())\n"
   ]
  },
  {
   "cell_type": "code",
   "execution_count": null,
   "metadata": {},
   "outputs": [],
   "source": [
    "#https://www.geeksforgeeks.org/python-oops-concepts/"
   ]
  },
  {
   "cell_type": "code",
   "execution_count": 27,
   "metadata": {},
   "outputs": [
    {
     "name": "stdout",
     "output_type": "stream",
     "text": [
      "Constructor called\n",
      "Destructor called\n"
     ]
    }
   ],
   "source": [
    "#Destructor\n",
    "\n",
    "\n",
    "class School_Admission:\n",
    "    school_Name = \"KVS high school\"\n",
    "    prin_name = \"JJJJ\"\n",
    "    branch_name = \"Coimbatore\"\n",
    "    \n",
    "    def __init__(self, name, DOB, age, parent): #comstructor automatically called while creating object\n",
    "        print(\"Constructor called\")\n",
    "        self.name = name\n",
    "        self.DOB = DOB\n",
    "        self.age = age\n",
    "        self.parent = parent\n",
    "        \n",
    "    def __del__(self): #destructor automatically called while deleting object\n",
    "        print(\"Destructor called\")\n",
    "        \n",
    "        \n",
    "        \n",
    "student1 =   School_Admission(\"bob\", \"1-1-2000\", 21, \"jjjj\") #object attribute\n",
    "\n",
    "del student1\n"
   ]
  },
  {
   "cell_type": "code",
   "execution_count": 37,
   "metadata": {},
   "outputs": [
    {
     "name": "stdout",
     "output_type": "stream",
     "text": [
      "Constructor called\n",
      "hostel for bobis assigned\n",
      "feed bakc collection\n",
      "feed back for KVS high school\n"
     ]
    }
   ],
   "source": [
    "#classs method vs static method\n",
    "\n",
    "\n",
    "\n",
    "class School_Admission:\n",
    "    school_Name = \"KVS high school\"\n",
    "    prin_name = \"JJJJ\"\n",
    "    branch_name = \"Coimbatore\"\n",
    "    \n",
    "    def __init__(self, name, DOB, age, parent): #comstructor automatically called while creating object\n",
    "        print(\"Constructor called\")\n",
    "        self.name = name\n",
    "        self.DOB = DOB\n",
    "        self.age = age\n",
    "        self.parent = parent\n",
    "        \n",
    "    def hostel(self):\n",
    "        return \"hostel for \" + self.name + \"is assigned\"\n",
    "    \n",
    "    @staticmethod #decorator\n",
    "    def feedback(): #independent function  ==> without access to class/object attributes\n",
    "        return \"feed bakc collection\"\n",
    "    \n",
    "    @classmethod\n",
    "    def feed_back_with_school(cls):\n",
    "        #print(cls.name)\n",
    "        return \"feed back for \"+ cls.school_Name\n",
    "    \n",
    "    \n",
    "        \n",
    "        \n",
    "        \n",
    "student1 =   School_Admission(\"bob\", \"1-1-2000\", 21, \"jjjj\") #object attribute\n",
    "\n",
    "print(student1.hostel())\n",
    "print(student1.feedback())\n",
    "print(student1.feed_back_with_school())"
   ]
  },
  {
   "cell_type": "code",
   "execution_count": null,
   "metadata": {},
   "outputs": [],
   "source": []
  }
 ],
 "metadata": {
  "kernelspec": {
   "display_name": "Python 3",
   "language": "python",
   "name": "python3"
  },
  "language_info": {
   "codemirror_mode": {
    "name": "ipython",
    "version": 3
   },
   "file_extension": ".py",
   "mimetype": "text/x-python",
   "name": "python",
   "nbconvert_exporter": "python",
   "pygments_lexer": "ipython3",
   "version": "3.7.6"
  }
 },
 "nbformat": 4,
 "nbformat_minor": 4
}
