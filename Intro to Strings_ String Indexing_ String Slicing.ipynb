{
 "cells": [
  {
   "cell_type": "code",
   "execution_count": null,
   "metadata": {},
   "outputs": [],
   "source": [
    "#What is string ?\n",
    "\n",
    "  #available with in \" \"  ' ' \"\"\" \"\"\" '''  ''' str()\n",
    "  #Collection of chars\n",
    " \n",
    "#What is char ? #Single letter \n",
    "\n",
    "\"10\"\n",
    "\n",
    "\"python\" ==> \"p\", \"y\", \"t\", \"h\", \"o\", \"n\" ==> string indexing\n",
    "Slicing ==> Extrcting a sub string from main string"
   ]
  },
  {
   "cell_type": "code",
   "execution_count": null,
   "metadata": {},
   "outputs": [],
   "source": [
    "#Indexing\n",
    "\n",
    "\n",
    "#Python\n",
    "\n",
    "#Forward Indexing starts with 0\n",
    "#Reverse Indexing starts with -1\n",
    "\n",
    "#[]  ===> indexing braces\n",
    "#()  ==> Functions (calls and def)\n",
    "\n"
   ]
  },
  {
   "cell_type": "code",
   "execution_count": null,
   "metadata": {},
   "outputs": [],
   "source": [
    "print(\"hello\")"
   ]
  },
  {
   "cell_type": "code",
   "execution_count": 1,
   "metadata": {},
   "outputs": [
    {
     "name": "stdout",
     "output_type": "stream",
     "text": [
      "n\n",
      "n\n",
      "h\n",
      "t\n"
     ]
    }
   ],
   "source": [
    "a = \"python\"\n",
    "\n",
    "print(a[-1])\n",
    "print(a[5])\n",
    "print(a[-3])\n",
    "print(a[-4])"
   ]
  },
  {
   "cell_type": "markdown",
   "metadata": {},
   "source": [
    "## String Slicing"
   ]
  },
  {
   "cell_type": "code",
   "execution_count": null,
   "metadata": {},
   "outputs": [],
   "source": [
    "#slcing ==> extracting \n",
    "\n",
    "#Type1-5"
   ]
  },
  {
   "cell_type": "code",
   "execution_count": 3,
   "metadata": {},
   "outputs": [
    {
     "name": "stdout",
     "output_type": "stream",
     "text": [
      "6\n"
     ]
    }
   ],
   "source": [
    "a = \"python\"\n",
    "\n",
    "print(len(a))"
   ]
  },
  {
   "cell_type": "code",
   "execution_count": null,
   "metadata": {},
   "outputs": [],
   "source": [
    "/  ==> Div        ==> Decimal  #use / and convert to int \n",
    "// ==> Floor div  ==> int      # // for int output"
   ]
  },
  {
   "cell_type": "code",
   "execution_count": null,
   "metadata": {},
   "outputs": [],
   "source": [
    "[Starting_index(including) : Ending index (excluding) : Index interval (optional)]"
   ]
  },
  {
   "cell_type": "markdown",
   "metadata": {},
   "source": [
    "## Type 1"
   ]
  },
  {
   "cell_type": "code",
   "execution_count": null,
   "metadata": {},
   "outputs": [],
   "source": [
    "#can extract string in forward manner\n",
    "#starting index or ending index or both are available\n",
    "#Index interval not available"
   ]
  },
  {
   "cell_type": "code",
   "execution_count": 1,
   "metadata": {},
   "outputs": [
    {
     "name": "stdout",
     "output_type": "stream",
     "text": [
      "ytho\n",
      "tho\n",
      "ytho\n",
      "tho\n",
      "pytho\n",
      "thon\n",
      "thon\n",
      "python\n"
     ]
    }
   ],
   "source": [
    "a = \"python\"\n",
    "\n",
    "print(a[1:5])\n",
    "print(a[2:-1])\n",
    "print(a[-5:5])\n",
    "print(a[-4:-1])\n",
    "print(a[:5])\n",
    "print(a[2:])\n",
    "print(a[2:100])\n",
    "print(a[:])"
   ]
  },
  {
   "cell_type": "code",
   "execution_count": null,
   "metadata": {},
   "outputs": [],
   "source": [
    "ytho\n",
    "tho\n",
    "ytho\n",
    "tho\n",
    "pytho\n",
    "thon\n",
    "thon\n",
    "python\n"
   ]
  },
  {
   "cell_type": "code",
   "execution_count": 2,
   "metadata": {},
   "outputs": [
    {
     "name": "stdout",
     "output_type": "stream",
     "text": [
      "\n",
      "\n",
      "\n"
     ]
    }
   ],
   "source": [
    "print(a[-1:-5])\n",
    "print(a[-2:0])\n",
    "print(a[5:1])\n"
   ]
  },
  {
   "cell_type": "markdown",
   "metadata": {},
   "source": [
    "## Type 2"
   ]
  },
  {
   "cell_type": "code",
   "execution_count": null,
   "metadata": {},
   "outputs": [],
   "source": [
    "#can extract string in forward manner\n",
    "#starting index or ending or both are available\n",
    "#Index interval is mandatory\n",
    "#Index interval is positive always"
   ]
  },
  {
   "cell_type": "code",
   "execution_count": 3,
   "metadata": {},
   "outputs": [
    {
     "name": "stdout",
     "output_type": "stream",
     "text": [
      "mputer_scien\n",
      "mue_ce\n",
      "mt_i\n",
      "puter_s\n",
      "ptrs\n",
      "p_\n",
      "pesee\n",
      "ine\n",
      "c\n",
      "cpesee\n"
     ]
    }
   ],
   "source": [
    "a = \"computer_science\"\n",
    "\n",
    "print(a[2:-2:1])\n",
    "print(a[2:-2:2])\n",
    "print(a[2:-2:3])\n",
    "print(a[3:10:1])\n",
    "print(a[3:10:2])\n",
    "print(a[3:10:5])\n",
    "\n",
    "print(a[3: :3])\n",
    "print(a[-5: : 2])\n",
    "print(a[:4:4])\n",
    "print(a[::3])\n",
    "\n"
   ]
  },
  {
   "cell_type": "code",
   "execution_count": null,
   "metadata": {},
   "outputs": [],
   "source": [
    "m\tp\tu\tt\te\tr\t_\ts\tc\ti\te\tn\n",
    "m\tu\te\t_\tc\te\t\t\t\t\t\t\n",
    "m\tt\t_\ti\t\t\t\t\t\t\t\t\n",
    "p\tu\tt\te\tr\t_\ts\t\t\t\t\t\n",
    "p\tt\tr\ts\t\t\t\t\t\t\t\t\n",
    "p\t_\t\t\t\t\t\t\t\t\t\t\n",
    "\t\t\t\t\t\t\t\t\t\t\t\n",
    "p\te\ts\te\te\t\t\t\t\t\t\t\n",
    "i\tn\te\t\t\t\t\t\t\t\t\t\n",
    "c\t\t\t\t\t\t\t\t\t\t\t\n",
    "c\tp\te\ts\te\te\t\t\t\t\t\t\n"
   ]
  },
  {
   "cell_type": "markdown",
   "metadata": {},
   "source": [
    "## Type 3"
   ]
  },
  {
   "cell_type": "code",
   "execution_count": null,
   "metadata": {},
   "outputs": [],
   "source": [
    "#starting index, ending index, index interval all are available\n",
    "\n",
    "\n",
    "FWD (start to end) + Pos(index)\t\n",
    "REV (start to end) + Neg(index)\t\n",
    "FWD (start to end) + Neg(index)\tempty\n",
    "REV (start to end) + Pos(index)\tempty\n",
    "\n",
    "[starting index: ending index: index interval]\n",
    "\n",
    "\n",
    "'python'"
   ]
  },
  {
   "cell_type": "code",
   "execution_count": 1,
   "metadata": {},
   "outputs": [
    {
     "name": "stdout",
     "output_type": "stream",
     "text": [
      "pese\n",
      "\n",
      "\n",
      "ncru\n",
      "mre\n",
      "\n",
      "\n",
      "ci_t\n",
      "csu\n"
     ]
    }
   ],
   "source": [
    "a = \"computer_science\"\n",
    "\n",
    "print(a[3:-3:3])\n",
    "print(a[3:-3:-3])\n",
    "print(a[-3:3:3])\n",
    "print(a[-3:3:-3])\n",
    "\n",
    "print(a[2:-2:5])\n",
    "print(a[2:-2:-5])\n",
    "print(a[-2:2:5])\n",
    "print(a[-2:2:-3])\n",
    "print(a[-2:2:-5])\n"
   ]
  },
  {
   "cell_type": "code",
   "execution_count": null,
   "metadata": {},
   "outputs": [],
   "source": [
    "pese\n",
    "empty\n",
    "empty\n",
    "ncru\n",
    "\n",
    "mre\n",
    "empty\n",
    "empty\n",
    "ci_t\n",
    "csu\n"
   ]
  },
  {
   "cell_type": "markdown",
   "metadata": {},
   "source": [
    "## Type 4"
   ]
  },
  {
   "cell_type": "code",
   "execution_count": null,
   "metadata": {},
   "outputs": [],
   "source": [
    "#starting index or ending index is not available\n",
    "#index interval is available\n",
    "#index can be positive or negative"
   ]
  },
  {
   "cell_type": "code",
   "execution_count": 2,
   "metadata": {},
   "outputs": [
    {
     "name": "stdout",
     "output_type": "stream",
     "text": [
      "ec\n",
      "eese\n",
      "c\n",
      "c\n",
      "cmue_\n",
      "tc\n",
      "pc\n",
      "tce\n",
      "pesee\n"
     ]
    }
   ],
   "source": [
    "a = \"computer_science\"\n",
    "\n",
    "print(a[:5:-5])\n",
    "print(a[:3:-3])\n",
    "print(a[:5:5])\n",
    "print(a[:3:3])\n",
    "print(a[:10:2])\n",
    "print(a[5::-5])\n",
    "print(a[3::-3])\n",
    "print(a[5::5])\n",
    "print(a[3::3])\n"
   ]
  },
  {
   "cell_type": "code",
   "execution_count": null,
   "metadata": {},
   "outputs": [],
   "source": [
    "ec\n",
    "eese\n",
    "c\n",
    "c\n",
    "cmue_\n",
    "tc\n",
    "pc\n",
    "tce\n",
    "pesee\n"
   ]
  },
  {
   "cell_type": "markdown",
   "metadata": {},
   "source": [
    "## Type 5"
   ]
  },
  {
   "cell_type": "code",
   "execution_count": null,
   "metadata": {},
   "outputs": [],
   "source": [
    "#starting index and ending index are not available\n",
    "#index interval is available\n",
    "#index can be positive or negative"
   ]
  },
  {
   "cell_type": "code",
   "execution_count": 3,
   "metadata": {},
   "outputs": [
    {
     "name": "stdout",
     "output_type": "stream",
     "text": [
      "computer_science\n",
      "cmue_cec\n",
      "ctce\n",
      "ecneics_retupmoc\n",
      "eesepc\n",
      "eirp\n"
     ]
    }
   ],
   "source": [
    "a = \"computer_science\"\n",
    "\n",
    "\n",
    "print(a[::1])\n",
    "print(a[::2])\n",
    "print(a[::5])\n",
    "print(a[::-1])\n",
    "print(a[::-3])\n",
    "print(a[::-4])"
   ]
  },
  {
   "cell_type": "code",
   "execution_count": null,
   "metadata": {},
   "outputs": [],
   "source": []
  }
 ],
 "metadata": {
  "kernelspec": {
   "display_name": "Python 3",
   "language": "python",
   "name": "python3"
  },
  "language_info": {
   "codemirror_mode": {
    "name": "ipython",
    "version": 3
   },
   "file_extension": ".py",
   "mimetype": "text/x-python",
   "name": "python",
   "nbconvert_exporter": "python",
   "pygments_lexer": "ipython3",
   "version": "3.7.6"
  }
 },
 "nbformat": 4,
 "nbformat_minor": 4
}
