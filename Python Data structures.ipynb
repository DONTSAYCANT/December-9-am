{
 "cells": [
  {
   "cell_type": "code",
   "execution_count": 2,
   "metadata": {},
   "outputs": [
    {
     "name": "stdout",
     "output_type": "stream",
     "text": [
      "['rrrrr', '26', '444 road, nagar', 'delhi']\n",
      "rrrrr\n"
     ]
    }
   ],
   "source": [
    "a = \"hello\"\n",
    "\n",
    "b = 98\n",
    "\n",
    "val = [\"rrrrr\", \"26\", \"444 road, nagar\", \"delhi\"]\n",
    "\n",
    "print(val)\n",
    "print(val[0])"
   ]
  },
  {
   "cell_type": "code",
   "execution_count": null,
   "metadata": {},
   "outputs": [],
   "source": [
    "#Basis Data strucutures\n",
    "\n",
    "#Heterogenous DS\n",
    "\n",
    "#list\n",
    "\n",
    "[1,2,3,4,5,\"jjj\",10.88,True]\n",
    "indexing or ordering possible \n",
    "Concatenation is possible\n",
    "Mutable\n",
    "\n",
    "#tuple\n",
    "\n",
    "(4,5,6,7,10,\"hello\")\n",
    "indexing or ordering possible \n",
    "Concatenation is possible\n",
    "immutable\n",
    "\n",
    "\n",
    "\n",
    "#Set\n",
    "\n",
    "{4,5,6,7,10,\"hello\"}\n",
    "indexing or ordering not possible \n",
    "Concatenation is not possible\n",
    "Mutable\n",
    "\n",
    "\n",
    "\n",
    "#Dictionary {key:value}\n",
    "\n",
    "{1:\"hello\", 2:\"pi\", \"welcome\":\"python\"}\n",
    "indexing or ordering not possible \n",
    "Concatenation is not possible\n",
    "Mutable\n"
   ]
  },
  {
   "cell_type": "markdown",
   "metadata": {},
   "source": [
    "## List Methods"
   ]
  },
  {
   "cell_type": "code",
   "execution_count": 3,
   "metadata": {},
   "outputs": [
    {
     "name": "stdout",
     "output_type": "stream",
     "text": [
      "[1, 2, 3, 4, 'tttt', True, False]\n",
      "<class 'list'>\n"
     ]
    }
   ],
   "source": [
    "#Character\n",
    "\n",
    "#elements within []\n",
    "\n",
    "a = [1,2,3,4,\"tttt\", True, False]\n",
    "\n",
    "print(a)\n",
    "print(type(a))"
   ]
  },
  {
   "cell_type": "code",
   "execution_count": null,
   "metadata": {},
   "outputs": [],
   "source": [
    "#Heterogenous DS\n",
    "\n",
    "#Multiple datatyoes in single Ds\n",
    "\n"
   ]
  },
  {
   "cell_type": "code",
   "execution_count": 5,
   "metadata": {},
   "outputs": [
    {
     "name": "stdout",
     "output_type": "stream",
     "text": [
      "[1, 2, 3, 4, 'tttt', True, False]\n",
      "False\n",
      "1\n"
     ]
    }
   ],
   "source": [
    "#Ordered or Indexing possible\n",
    "\n",
    "a = [1,2,3,4,\"tttt\", True, False]\n",
    "\n",
    "print(a)\n",
    "print(a[-1])\n",
    "print(a[0])"
   ]
  },
  {
   "cell_type": "code",
   "execution_count": 7,
   "metadata": {},
   "outputs": [
    {
     "name": "stdout",
     "output_type": "stream",
     "text": [
      "[]\n",
      "<class 'list'>\n",
      "[]\n",
      "<class 'list'>\n"
     ]
    }
   ],
   "source": [
    "#How to create a list\n",
    "\n",
    "a = []\n",
    "\n",
    "print(a)\n",
    "print(type(a))\n",
    "\n",
    "b = list()\n",
    "print(b)\n",
    "print(type(b))"
   ]
  },
  {
   "cell_type": "code",
   "execution_count": 8,
   "metadata": {},
   "outputs": [
    {
     "name": "stdout",
     "output_type": "stream",
     "text": [
      "[4, 5, 6, 7, 3, 10]\n",
      "[4, 5, 6, 7, 3, 10, 'python']\n"
     ]
    }
   ],
   "source": [
    "#Append\n",
    "\n",
    "Li = [4,5,6,7,3]\n",
    "\n",
    "Li.append(10)\n",
    "\n",
    "print(Li)\n",
    "\n",
    "Li.append(\"python\")\n",
    "\n",
    "print(Li)"
   ]
  },
  {
   "cell_type": "code",
   "execution_count": 9,
   "metadata": {},
   "outputs": [
    {
     "name": "stdout",
     "output_type": "stream",
     "text": [
      "[4, 5, 'google', 6, 7, 3]\n"
     ]
    }
   ],
   "source": [
    "#insert\n",
    "\n",
    "Li = [4,5,6,7,3]\n",
    "\n",
    "Li.insert(2,\"google\") #(index, value)\n",
    "\n",
    "print(Li)"
   ]
  },
  {
   "cell_type": "code",
   "execution_count": 11,
   "metadata": {},
   "outputs": [
    {
     "name": "stdout",
     "output_type": "stream",
     "text": [
      "[4, 5, 6, 3]\n",
      "[4, 5, 6, 3, 7]\n"
     ]
    }
   ],
   "source": [
    "#remove\n",
    "\n",
    "Li = [4,5,6,7,3]\n",
    "\n",
    "Li.remove(7)\n",
    "\n",
    "print(Li)\n",
    "\n",
    "Li = [4,5,6,7,3,7]\n",
    "\n",
    "Li.remove(7)\n",
    "\n",
    "print(Li)"
   ]
  },
  {
   "cell_type": "code",
   "execution_count": 14,
   "metadata": {},
   "outputs": [
    {
     "name": "stdout",
     "output_type": "stream",
     "text": [
      "[4, 5, 6, 7]\n",
      "[4, 5, 7, 3]\n"
     ]
    }
   ],
   "source": [
    "#pop\n",
    "\n",
    "\n",
    "\n",
    "#pop type1\n",
    "\n",
    "Li = [4,5,6,7,3]\n",
    "\n",
    "Li.pop() #-1 as default\n",
    "\n",
    "print(Li)\n",
    "\n",
    "#pop type2\n",
    "\n",
    "Li = [4,5,6,7,3]\n",
    "\n",
    "Li.pop(2) #arg: index number\n",
    "\n",
    "print(Li)\n"
   ]
  },
  {
   "cell_type": "code",
   "execution_count": 17,
   "metadata": {},
   "outputs": [
    {
     "name": "stdout",
     "output_type": "stream",
     "text": [
      "[3, 4, 5, 6, 2, 'hhh', 'tttt', 10, 20, 30]\n"
     ]
    }
   ],
   "source": [
    "#concatenation\n",
    "\n",
    "a = [3,4,5,6,2]\n",
    "b = [\"hhh\", \"tttt\", 10,20,30]\n",
    "\n",
    "c = a+b\n",
    "print(c)"
   ]
  },
  {
   "cell_type": "code",
   "execution_count": 16,
   "metadata": {},
   "outputs": [
    {
     "name": "stdout",
     "output_type": "stream",
     "text": [
      "[3, 4, 5, 6, 2, 'hhh', 'tttt', 10, 20, 30]\n"
     ]
    }
   ],
   "source": [
    "#extend\n",
    "\n",
    "a = [3,4,5,6,2]\n",
    "b = [\"hhh\", \"tttt\", 10,20,30]\n",
    "\n",
    "a.extend(b)\n",
    "\n",
    "print(a)"
   ]
  },
  {
   "cell_type": "code",
   "execution_count": 21,
   "metadata": {},
   "outputs": [
    {
     "name": "stdout",
     "output_type": "stream",
     "text": [
      "4\n"
     ]
    },
    {
     "ename": "ValueError",
     "evalue": "0 is not in list",
     "output_type": "error",
     "traceback": [
      "\u001b[1;31m---------------------------------------------------------------------------\u001b[0m",
      "\u001b[1;31mValueError\u001b[0m                                Traceback (most recent call last)",
      "\u001b[1;32m<ipython-input-21-f9041ab1d105>\u001b[0m in \u001b[0;36m<module>\u001b[1;34m\u001b[0m\n\u001b[0;32m      5\u001b[0m \u001b[0mprint\u001b[0m\u001b[1;33m(\u001b[0m\u001b[0ma\u001b[0m\u001b[1;33m.\u001b[0m\u001b[0mindex\u001b[0m\u001b[1;33m(\u001b[0m\u001b[1;36m2\u001b[0m\u001b[1;33m)\u001b[0m\u001b[1;33m)\u001b[0m\u001b[1;33m\u001b[0m\u001b[1;33m\u001b[0m\u001b[0m\n\u001b[0;32m      6\u001b[0m \u001b[1;33m\u001b[0m\u001b[0m\n\u001b[1;32m----> 7\u001b[1;33m \u001b[0mprint\u001b[0m\u001b[1;33m(\u001b[0m\u001b[0ma\u001b[0m\u001b[1;33m.\u001b[0m\u001b[0mindex\u001b[0m\u001b[1;33m(\u001b[0m\u001b[1;36m0\u001b[0m\u001b[1;33m)\u001b[0m\u001b[1;33m)\u001b[0m\u001b[1;33m\u001b[0m\u001b[1;33m\u001b[0m\u001b[0m\n\u001b[0m",
      "\u001b[1;31mValueError\u001b[0m: 0 is not in list"
     ]
    }
   ],
   "source": [
    "#index\n",
    "\n",
    "a = [3,4,5,6,2]\n",
    "\n",
    "print(a.index(2))\n",
    "\n",
    "print(a.index(0))\n"
   ]
  },
  {
   "cell_type": "code",
   "execution_count": 22,
   "metadata": {},
   "outputs": [
    {
     "name": "stdout",
     "output_type": "stream",
     "text": [
      "47\n",
      "3\n",
      "7\n",
      "12\n"
     ]
    }
   ],
   "source": [
    "#sum/min/max/len\n",
    "\n",
    "a = [3,4,5,6,7,10,12]\n",
    "\n",
    "print(sum(a))\n",
    "print(min(a))\n",
    "\n",
    "print(len(a))\n",
    "print(max(a))\n"
   ]
  },
  {
   "cell_type": "code",
   "execution_count": 23,
   "metadata": {},
   "outputs": [
    {
     "name": "stdout",
     "output_type": "stream",
     "text": [
      "[-3, -1, 1, 3, 3, 4, 4, 5, 6, 7, 10, 12]\n"
     ]
    }
   ],
   "source": [
    "#sort/reverse\n",
    "\n",
    "a = [3,4,5,6,7,10,12,-1,-3,1,3,4]\n",
    "\n",
    "a.sort() #ascending order\n",
    "\n",
    "print(a)"
   ]
  },
  {
   "cell_type": "code",
   "execution_count": 24,
   "metadata": {},
   "outputs": [
    {
     "name": "stdout",
     "output_type": "stream",
     "text": [
      "[12, 10, 7, 6, 5, 4, 4, 3, 3, 1, -1, -3]\n"
     ]
    }
   ],
   "source": [
    "a = [3,4,5,6,7,10,12,-1,-3,1,3,4]\n",
    "\n",
    "a.sort(reverse=True) #descending order\n",
    "\n",
    "print(a)"
   ]
  },
  {
   "cell_type": "code",
   "execution_count": 25,
   "metadata": {},
   "outputs": [
    {
     "name": "stdout",
     "output_type": "stream",
     "text": [
      "[4, 3, 1, -3, -1, 12, 10, 7, 6, 5, 4, 3]\n"
     ]
    }
   ],
   "source": [
    "a = [3,4,5,6,7,10,12,-1,-3,1,3,4]\n",
    "\n",
    "a.reverse()\n",
    "print(a)"
   ]
  },
  {
   "cell_type": "code",
   "execution_count": 26,
   "metadata": {},
   "outputs": [
    {
     "name": "stdout",
     "output_type": "stream",
     "text": [
      "[]\n"
     ]
    }
   ],
   "source": [
    "#clear\n",
    "\n",
    "a = [4,5,6,7,8]\n",
    "\n",
    "a.clear()\n",
    "print(a)"
   ]
  },
  {
   "cell_type": "code",
   "execution_count": 29,
   "metadata": {},
   "outputs": [
    {
     "name": "stdout",
     "output_type": "stream",
     "text": [
      "[4, 5]\n"
     ]
    },
    {
     "ename": "NameError",
     "evalue": "name 'a' is not defined",
     "output_type": "error",
     "traceback": [
      "\u001b[1;31m---------------------------------------------------------------------------\u001b[0m",
      "\u001b[1;31mNameError\u001b[0m                                 Traceback (most recent call last)",
      "\u001b[1;32m<ipython-input-29-4f18c55e3625>\u001b[0m in \u001b[0;36m<module>\u001b[1;34m\u001b[0m\n\u001b[0;32m     12\u001b[0m \u001b[1;32mdel\u001b[0m \u001b[0ma\u001b[0m\u001b[1;33m\u001b[0m\u001b[1;33m\u001b[0m\u001b[0m\n\u001b[0;32m     13\u001b[0m \u001b[1;33m\u001b[0m\u001b[0m\n\u001b[1;32m---> 14\u001b[1;33m \u001b[0mprint\u001b[0m\u001b[1;33m(\u001b[0m\u001b[0ma\u001b[0m\u001b[1;33m)\u001b[0m\u001b[1;33m\u001b[0m\u001b[1;33m\u001b[0m\u001b[0m\n\u001b[0m",
      "\u001b[1;31mNameError\u001b[0m: name 'a' is not defined"
     ]
    }
   ],
   "source": [
    "#del\n",
    "\n",
    "#Type1 #For removing multiple elements\n",
    "\n",
    "a = [4,5,6,7,8]\n",
    "\n",
    "del a[2:]\n",
    "print(a)\n",
    "\n",
    "#Type2\n",
    "\n",
    "del a\n",
    "\n",
    "print(a)"
   ]
  },
  {
   "cell_type": "code",
   "execution_count": 31,
   "metadata": {},
   "outputs": [
    {
     "name": "stdout",
     "output_type": "stream",
     "text": [
      "3\n",
      "0\n"
     ]
    }
   ],
   "source": [
    "#Count\n",
    "\n",
    "a = [3,3,4,5,6,7,8,9,4,4,3,2]\n",
    "\n",
    "print(a.count(3))\n",
    "print(a.count(0))"
   ]
  },
  {
   "cell_type": "code",
   "execution_count": 34,
   "metadata": {},
   "outputs": [
    {
     "name": "stdout",
     "output_type": "stream",
     "text": [
      "[100, 2, 3, 4, 5, 0, 1, 2, 1, 0, -1]\n"
     ]
    }
   ],
   "source": [
    "#assignment or replacement\n",
    "\n",
    "a = [1,2,3,4,5,0,1,2,1,0,-1]\n",
    "\n",
    "\n",
    "a[0] = 100 #Assignment\n",
    "\n",
    "print(a)"
   ]
  },
  {
   "cell_type": "code",
   "execution_count": 35,
   "metadata": {},
   "outputs": [
    {
     "name": "stdout",
     "output_type": "stream",
     "text": [
      "[1, 2, 3, 4, 5, 0, 1, 2, 1, 0, -1]\n",
      "[1, 2, 3, 4, 5, 0, 1, 2, 1, 0, -1]\n",
      "2178564194696\n",
      "2178564194696\n",
      "[100, 2, 3, 4, 5, 0, 1, 2, 1, 0, -1]\n",
      "[100, 2, 3, 4, 5, 0, 1, 2, 1, 0, -1]\n"
     ]
    }
   ],
   "source": [
    "#copy\n",
    "\n",
    "#Shallow copy and deep copy\n",
    "\n",
    "#Shallow copy\n",
    "\n",
    "a = [1,2,3,4,5,0,1,2,1,0,-1]\n",
    "\n",
    "b = a\n",
    "\n",
    "print(b)\n",
    "print(a)\n",
    "print(id(a))\n",
    "print(id(b))\n",
    "a[0] = 100 #Assignment\n",
    "print(b)\n",
    "print(a)"
   ]
  },
  {
   "cell_type": "code",
   "execution_count": 36,
   "metadata": {},
   "outputs": [
    {
     "name": "stdout",
     "output_type": "stream",
     "text": [
      "[1, 2, 3, 4, 5, 0, 1, 2, 1, 0, -1]\n",
      "[1, 2, 3, 4, 5, 0, 1, 2, 1, 0, -1]\n",
      "2178564188488\n",
      "2178562645000\n",
      "[1, 2, 3, 4, 5, 0, 1, 2, 1, 0, -1]\n",
      "[100, 2, 3, 4, 5, 0, 1, 2, 1, 0, -1]\n"
     ]
    }
   ],
   "source": [
    "#Deep copy\n",
    "\n",
    "a = [1,2,3,4,5,0,1,2,1,0,-1]\n",
    "\n",
    "b = a.copy()\n",
    "\n",
    "print(b)\n",
    "print(a)\n",
    "print(id(a))\n",
    "print(id(b))\n",
    "a[0] = 100 #Assignment\n",
    "print(b)\n",
    "print(a)"
   ]
  },
  {
   "cell_type": "code",
   "execution_count": null,
   "metadata": {},
   "outputs": [],
   "source": [
    "https://www.w3schools.com/python/python_lists_methods.asp\n",
    "    \n",
    "https://www.w3schools.com/python/python_lists.asp"
   ]
  },
  {
   "cell_type": "code",
   "execution_count": null,
   "metadata": {},
   "outputs": [],
   "source": [
    "#List methods\n",
    "#Tuple methods\n",
    "#Set methods\n",
    "#Dictionary methods\n",
    "#String methods"
   ]
  }
 ],
 "metadata": {
  "kernelspec": {
   "display_name": "Python 3",
   "language": "python",
   "name": "python3"
  },
  "language_info": {
   "codemirror_mode": {
    "name": "ipython",
    "version": 3
   },
   "file_extension": ".py",
   "mimetype": "text/x-python",
   "name": "python",
   "nbconvert_exporter": "python",
   "pygments_lexer": "ipython3",
   "version": "3.7.6"
  }
 },
 "nbformat": 4,
 "nbformat_minor": 4
}
