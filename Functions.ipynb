{
 "cells": [
  {
   "cell_type": "code",
   "execution_count": null,
   "metadata": {},
   "outputs": [],
   "source": [
    "#Functions ? \n",
    "\n",
    "Specific Task \n",
    "For avoiding duplicates or avoid redundant code \n",
    "\n",
    "#Inbuilt function\n",
    "#User Def function\n",
    "\n",
    "\n",
    "#Arguement or paramter\n",
    "#return\n",
    "#Function call \n",
    "#Function Def\n",
    "\n",
    "\n",
    "#recursive function\n",
    "\n"
   ]
  },
  {
   "cell_type": "code",
   "execution_count": 2,
   "metadata": {},
   "outputs": [],
   "source": [
    "a = 10\n",
    "b = 5\n",
    "\n",
    "c = a + b\n"
   ]
  },
  {
   "cell_type": "code",
   "execution_count": null,
   "metadata": {},
   "outputs": [],
   "source": [
    "#Inbuilt functions\n",
    "\n",
    "#print\n",
    "#input\n",
    "#float\n",
    "#int\n",
    "#str\n",
    "#bool\n",
    "#len\n",
    "#min\n",
    "#max\n",
    "#sum\n",
    "#format\n",
    "#list\n",
    "#tuple\n",
    "#set\n",
    "#dict\n",
    "#range\n",
    "#zip\n",
    "#\n",
    "\n",
    "#https://www.w3schools.com/python/python_ref_functions.asp\n",
    "\n"
   ]
  },
  {
   "cell_type": "code",
   "execution_count": 5,
   "metadata": {},
   "outputs": [
    {
     "name": "stdout",
     "output_type": "stream",
     "text": [
      "104\n",
      "m\n"
     ]
    }
   ],
   "source": [
    "#ord #chr\n",
    "\n",
    "a = \"h\"\n",
    "\n",
    "print(ord(a)) #conversion of char to ascii\n",
    "\n",
    "\n",
    "b = 109\n",
    "\n",
    "print(chr(b))"
   ]
  },
  {
   "cell_type": "code",
   "execution_count": 8,
   "metadata": {},
   "outputs": [
    {
     "name": "stdout",
     "output_type": "stream",
     "text": [
      "Its' not a vowel\n",
      "Its' not a vowel\n"
     ]
    }
   ],
   "source": [
    "#any (OR) or all (AND)\n",
    "\n",
    "\n",
    "val = \"z\"\n",
    "\n",
    "\n",
    "if val == \"a\" or val == \"e\" or val == \"i\" or val == \"u\" or val == \"e\":\n",
    "    print(\"it's vowel\")\n",
    "else:\n",
    "    print(\"Its' not a vowel\")\n",
    "    \n",
    "if any([val == \"a\", val == \"e\", val == \"i\", val == \"u\", val == \"e\"]):\n",
    "    print(\"it's vowel\")\n",
    "else:\n",
    "    print(\"Its' not a vowel\")"
   ]
  },
  {
   "cell_type": "code",
   "execution_count": 9,
   "metadata": {},
   "outputs": [
    {
     "name": "stdout",
     "output_type": "stream",
     "text": [
      "1.0\n"
     ]
    }
   ],
   "source": [
    "a = -1.0\n",
    "\n",
    "print(abs(a))"
   ]
  },
  {
   "cell_type": "code",
   "execution_count": 10,
   "metadata": {},
   "outputs": [
    {
     "name": "stdout",
     "output_type": "stream",
     "text": [
      "0b1100100\n",
      "0o144\n",
      "0x64\n"
     ]
    }
   ],
   "source": [
    "#bin #oct #Hex\n",
    "\n",
    "a = 100\n",
    "\n",
    "print(bin(a))\n",
    "print(oct(a))\n",
    "print(hex(a))\n",
    "\n"
   ]
  },
  {
   "cell_type": "code",
   "execution_count": 11,
   "metadata": {},
   "outputs": [
    {
     "name": "stdout",
     "output_type": "stream",
     "text": [
      "140719426350576\n",
      "140719426348464\n"
     ]
    }
   ],
   "source": [
    "a = 100\n",
    "\n",
    "b = 34\n",
    "\n",
    "print(id(a))\n",
    "print(id(b))"
   ]
  },
  {
   "cell_type": "code",
   "execution_count": null,
   "metadata": {},
   "outputs": [],
   "source": [
    "#User Def function\n",
    "\n",
    "\n",
    "#Function Def\n",
    "\n",
    "#==> The process of the function\n",
    "\n",
    "#Function call\n"
   ]
  },
  {
   "cell_type": "code",
   "execution_count": 12,
   "metadata": {},
   "outputs": [
    {
     "name": "stdout",
     "output_type": "stream",
     "text": [
      "75\n",
      "55\n"
     ]
    }
   ],
   "source": [
    "#Function Def\n",
    "def a2b2(val1,val2):\n",
    "    cal = (val1 + val2 ) * (val1 - val2)\n",
    "    return cal #Last line to be executed in a function def #default None\n",
    "\n",
    "#Function call\n",
    "print(a2b2(10,5))\n",
    "print(a2b2(8,3))"
   ]
  },
  {
   "cell_type": "code",
   "execution_count": 14,
   "metadata": {},
   "outputs": [
    {
     "name": "stdout",
     "output_type": "stream",
     "text": [
      "600\n",
      "960\n"
     ]
    }
   ],
   "source": [
    "def multiply(a,b,c):\n",
    "    return a * b * c\n",
    "\n",
    "print(multiply(10,20,3))\n",
    "print(multiply(8,4,30))"
   ]
  },
  {
   "cell_type": "code",
   "execution_count": null,
   "metadata": {},
   "outputs": [],
   "source": [
    "#import "
   ]
  },
  {
   "cell_type": "code",
   "execution_count": null,
   "metadata": {},
   "outputs": [],
   "source": []
  }
 ],
 "metadata": {
  "kernelspec": {
   "display_name": "Python 3",
   "language": "python",
   "name": "python3"
  },
  "language_info": {
   "codemirror_mode": {
    "name": "ipython",
    "version": 3
   },
   "file_extension": ".py",
   "mimetype": "text/x-python",
   "name": "python",
   "nbconvert_exporter": "python",
   "pygments_lexer": "ipython3",
   "version": "3.7.6"
  }
 },
 "nbformat": 4,
 "nbformat_minor": 4
}
