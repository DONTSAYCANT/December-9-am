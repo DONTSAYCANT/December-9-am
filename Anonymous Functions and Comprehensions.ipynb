{
 "cells": [
  {
   "cell_type": "code",
   "execution_count": null,
   "metadata": {},
   "outputs": [],
   "source": [
    "#Reducing number of line"
   ]
  },
  {
   "cell_type": "code",
   "execution_count": null,
   "metadata": {},
   "outputs": [],
   "source": [
    "#anonymous functions ==> function without name\n"
   ]
  },
  {
   "cell_type": "code",
   "execution_count": null,
   "metadata": {},
   "outputs": [],
   "source": [
    "#lambda\n",
    "#map\n",
    "#filter \n",
    "#reduce\n",
    "\n"
   ]
  },
  {
   "cell_type": "code",
   "execution_count": 1,
   "metadata": {},
   "outputs": [
    {
     "name": "stdout",
     "output_type": "stream",
     "text": [
      "75\n"
     ]
    }
   ],
   "source": [
    "def function_calculation(a,b):\n",
    "    val = (a + b) *(a - b)\n",
    "    return val\n",
    "\n",
    "print(function_calculation(10,5))"
   ]
  },
  {
   "cell_type": "code",
   "execution_count": 3,
   "metadata": {},
   "outputs": [
    {
     "name": "stdout",
     "output_type": "stream",
     "text": [
      "30000\n"
     ]
    }
   ],
   "source": [
    "function_cal_lambda = lambda a,b : (a+b)*(a-b)\n",
    "\n",
    "print(function_cal_lambda(200,100))"
   ]
  },
  {
   "cell_type": "code",
   "execution_count": 4,
   "metadata": {},
   "outputs": [
    {
     "name": "stdout",
     "output_type": "stream",
     "text": [
      "1000\n"
     ]
    }
   ],
   "source": [
    "cube = lambda x : x ** 3\n",
    "print(cube(10))"
   ]
  },
  {
   "cell_type": "code",
   "execution_count": 5,
   "metadata": {},
   "outputs": [
    {
     "name": "stdout",
     "output_type": "stream",
     "text": [
      "[9, 16, 25, 36, 100, 1, 9]\n"
     ]
    }
   ],
   "source": [
    "#Map\n",
    "\n",
    "Li = [3,4,5,6,10,1,-3]\n",
    "\n",
    "square = []\n",
    "\n",
    "for i in Li:\n",
    "    square.append(i**2)\n",
    "    \n",
    "print(square)\n",
    "\n"
   ]
  },
  {
   "cell_type": "code",
   "execution_count": 7,
   "metadata": {},
   "outputs": [
    {
     "name": "stdout",
     "output_type": "stream",
     "text": [
      "[9, 16, 25, 36, 100, 1, 9]\n"
     ]
    }
   ],
   "source": [
    "Li = [3,4,5,6,10,1,-3]\n",
    "\n",
    "#map(operation, Ds)\n",
    "\n",
    "print(list(map(lambda x: x ** 2, Li)))"
   ]
  },
  {
   "cell_type": "code",
   "execution_count": 9,
   "metadata": {},
   "outputs": [
    {
     "name": "stdout",
     "output_type": "stream",
     "text": [
      "[27, 64, 125, 216, 1000, 1, -27]\n"
     ]
    }
   ],
   "source": [
    "def cube(val):\n",
    "    return val ** 3\n",
    "\n",
    "print(list(map(cube, Li)))"
   ]
  },
  {
   "cell_type": "code",
   "execution_count": 10,
   "metadata": {},
   "outputs": [
    {
     "name": "stdout",
     "output_type": "stream",
     "text": [
      "[<class 'int'>, <class 'int'>, <class 'int'>, <class 'int'>, <class 'int'>, <class 'int'>, <class 'int'>]\n"
     ]
    }
   ],
   "source": [
    "print(list(map(type, Li)))"
   ]
  },
  {
   "cell_type": "code",
   "execution_count": 12,
   "metadata": {},
   "outputs": [
    {
     "name": "stdout",
     "output_type": "stream",
     "text": [
      "[10, 12, 14, 16, 18, 20, 22, 24]\n"
     ]
    }
   ],
   "source": [
    "#filter\n",
    "\n",
    "Li = [3,4,5,6,10,1,-3]\n",
    "\n",
    "#map(operation, Ds)\n",
    "\n",
    "print(list(filter(lambda x: x % 2 == 0, range(10,25))))"
   ]
  },
  {
   "cell_type": "code",
   "execution_count": 14,
   "metadata": {},
   "outputs": [
    {
     "name": "stdout",
     "output_type": "stream",
     "text": [
      "67200\n"
     ]
    }
   ],
   "source": [
    "#Reduce\n",
    "\n",
    "from functools import reduce\n",
    "\n",
    "Li1 = [4,5,6,7,8,10]\n",
    "\n",
    "val = reduce(lambda x,y : x * y, Li1)\n",
    "print(val)"
   ]
  },
  {
   "cell_type": "markdown",
   "metadata": {},
   "source": [
    "## Comprehension"
   ]
  },
  {
   "cell_type": "code",
   "execution_count": 16,
   "metadata": {},
   "outputs": [
    {
     "name": "stdout",
     "output_type": "stream",
     "text": [
      "[16, 25, 36, 100, 4, 9, 1]\n"
     ]
    }
   ],
   "source": [
    "#List comprehension\n",
    "\n",
    "Li = [4,5,6,10,2,3,-1]\n",
    "\n",
    "output = [i**2 for i in Li]\n",
    "\n",
    "print(output)"
   ]
  },
  {
   "cell_type": "code",
   "execution_count": null,
   "metadata": {},
   "outputs": [],
   "source": [
    "Li = [3,4,5,6,10,1,-3]\n",
    "\n",
    "square = []\n",
    "\n",
    "for i in Li:\n",
    "    square.append(i**2)\n",
    "    \n",
    "print(square)"
   ]
  },
  {
   "cell_type": "code",
   "execution_count": 17,
   "metadata": {},
   "outputs": [
    {
     "name": "stdout",
     "output_type": "stream",
     "text": [
      "[16, 36, 100, 4]\n"
     ]
    }
   ],
   "source": [
    "Li = [4,5,6,10,2,3,-1]\n",
    "\n",
    "output = [i**2 for i in Li if i % 2 == 0]\n",
    "\n",
    "print(output)"
   ]
  },
  {
   "cell_type": "code",
   "execution_count": 18,
   "metadata": {},
   "outputs": [
    {
     "name": "stdout",
     "output_type": "stream",
     "text": [
      "['even', 'odd', 'even', 'even', 'even', 'odd', 'odd']\n"
     ]
    }
   ],
   "source": [
    "Li = [4,5,6,10,2,3,-1]\n",
    "\n",
    "output = [\"even\" if i % 2 == 0 else \"odd\" for i in Li ]\n",
    "\n",
    "print(output)"
   ]
  },
  {
   "cell_type": "code",
   "execution_count": 19,
   "metadata": {},
   "outputs": [
    {
     "name": "stdout",
     "output_type": "stream",
     "text": [
      "{1, 36, 4, 100, 9, 16, 25}\n"
     ]
    }
   ],
   "source": [
    "#set comprehension\n",
    "\n",
    "Li = [4,5,6,10,2,3,-1]\n",
    "\n",
    "output = [i**2 for i in Li]\n",
    "\n",
    "print(output)"
   ]
  },
  {
   "cell_type": "code",
   "execution_count": 21,
   "metadata": {},
   "outputs": [
    {
     "name": "stdout",
     "output_type": "stream",
     "text": [
      "{4: 16, 5: 25, 6: 36, 10: 100, 2: 4, 3: 9, -1: 1}\n"
     ]
    }
   ],
   "source": [
    "#dictionary comprehension\n",
    "\n",
    "Li = [4,5,6,10,2,3,-1]\n",
    "\n",
    "output = {i:i**2 for i in Li}\n",
    "\n",
    "print(output)"
   ]
  },
  {
   "cell_type": "code",
   "execution_count": 23,
   "metadata": {},
   "outputs": [
    {
     "name": "stdout",
     "output_type": "stream",
     "text": [
      "(16, 25, 36, 100, 4, 9, 1)\n"
     ]
    }
   ],
   "source": [
    "#tuple comprehension\n",
    "\n",
    "Li = [4,5,6,10,2,3,-1]\n",
    "\n",
    "output = (i**2 for i in Li)\n",
    "\n",
    "print(tuple(output))"
   ]
  },
  {
   "cell_type": "code",
   "execution_count": null,
   "metadata": {},
   "outputs": [],
   "source": []
  }
 ],
 "metadata": {
  "kernelspec": {
   "display_name": "Python 3",
   "language": "python",
   "name": "python3"
  },
  "language_info": {
   "codemirror_mode": {
    "name": "ipython",
    "version": 3
   },
   "file_extension": ".py",
   "mimetype": "text/x-python",
   "name": "python",
   "nbconvert_exporter": "python",
   "pygments_lexer": "ipython3",
   "version": "3.7.6"
  }
 },
 "nbformat": 4,
 "nbformat_minor": 4
}
