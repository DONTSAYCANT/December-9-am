{
 "cells": [
  {
   "cell_type": "code",
   "execution_count": null,
   "metadata": {},
   "outputs": [],
   "source": [
    "#range function\n",
    "\n",
    "\n",
    "#For loop\n",
    "\n",
    "#For with DS\n",
    "#For with range\n",
    "#For with string\n",
    "\n",
    "#While Loop\n",
    "\n",
    "#While with condition\n",
    "#while with variable\n",
    "#while with True\n",
    "#while with membership operator\n",
    "\n",
    "#Break continue pass\n",
    "\n",
    "#For else\n",
    "#while else\n",
    "\n"
   ]
  },
  {
   "cell_type": "code",
   "execution_count": 3,
   "metadata": {},
   "outputs": [
    {
     "name": "stdout",
     "output_type": "stream",
     "text": [
      "[0, 1, 2, 3, 4, 5, 6, 7, 8, 9]\n",
      "[10, 11, 12, 13, 14, 15, 16, 17, 18, 19]\n",
      "[50, 58, 66, 74, 82, 90, 98]\n",
      "[200, 190, 180, 170, 160, 150, 140, 130, 120, 110]\n"
     ]
    }
   ],
   "source": [
    "#Range\n",
    "\n",
    "#Purpose\n",
    "\n",
    "print(list(range(10)))\n",
    "\n",
    "print(list(range(10,20)))\n",
    "\n",
    "print(list(range(50,100,8)))\n",
    "\n",
    "print(list(range(200, 100, -10)))"
   ]
  },
  {
   "cell_type": "code",
   "execution_count": 5,
   "metadata": {},
   "outputs": [
    {
     "name": "stdout",
     "output_type": "stream",
     "text": [
      "hello world\n",
      "hello world\n",
      "hello world\n",
      "hello world\n",
      "hello world\n",
      "hello world\n",
      "hello world\n",
      "hello world\n",
      "hello world\n",
      "hello world\n"
     ]
    }
   ],
   "source": [
    "#Loops ? ===> Execute part of the code multiple times based on condition or number of occurrence\n",
    "\n",
    "#Need for Loop  ?\n",
    "\n",
    "print(\"hello world\")\n",
    "print(\"hello world\")\n",
    "print(\"hello world\")\n",
    "print(\"hello world\")\n",
    "print(\"hello world\")\n",
    "print(\"hello world\")\n",
    "print(\"hello world\")\n",
    "print(\"hello world\")\n",
    "print(\"hello world\")\n",
    "print(\"hello world\")"
   ]
  },
  {
   "cell_type": "code",
   "execution_count": 7,
   "metadata": {},
   "outputs": [
    {
     "name": "stdout",
     "output_type": "stream",
     "text": [
      "0\n",
      "Hello world\n",
      "1\n",
      "Hello world\n",
      "2\n",
      "Hello world\n",
      "3\n",
      "Hello world\n",
      "4\n",
      "Hello world\n",
      "5\n",
      "Hello world\n",
      "6\n",
      "Hello world\n",
      "7\n",
      "Hello world\n",
      "8\n",
      "Hello world\n",
      "9\n",
      "Hello world\n"
     ]
    }
   ],
   "source": [
    "#For range function\n",
    "\n",
    "#for <temp variable> in DS:\n",
    "\n",
    "for val in range(10):\n",
    "    print(val)\n",
    "    print(\"Hello world\")"
   ]
  },
  {
   "cell_type": "code",
   "execution_count": 8,
   "metadata": {},
   "outputs": [
    {
     "name": "stdout",
     "output_type": "stream",
     "text": [
      "hello\n",
      "python\n",
      "go\n",
      "cpp\n"
     ]
    }
   ],
   "source": [
    "#For with List\n",
    "\n",
    "Li = [\"hello\", \"python\", \"go\", \"cpp\"]\n",
    "\n",
    "for i in Li:\n",
    "    print(i)"
   ]
  },
  {
   "cell_type": "code",
   "execution_count": 9,
   "metadata": {},
   "outputs": [
    {
     "name": "stdout",
     "output_type": "stream",
     "text": [
      "1\n",
      "2\n",
      "3\n",
      "4\n",
      "5\n",
      "-1\n"
     ]
    }
   ],
   "source": [
    "Li = (1,2,3,4,5,-1)\n",
    "\n",
    "for i in Li:\n",
    "    print(i)"
   ]
  },
  {
   "cell_type": "code",
   "execution_count": 14,
   "metadata": {},
   "outputs": [
    {
     "name": "stdout",
     "output_type": "stream",
     "text": [
      "0\n",
      "2\n",
      "3\n",
      "4\n",
      "5\n",
      "71\n",
      "10\n",
      "20\n",
      "-1\n"
     ]
    }
   ],
   "source": [
    "Li = {0,10,20,71,2,3,4,5,-1}\n",
    "\n",
    "for i in Li:\n",
    "    print(i)"
   ]
  },
  {
   "cell_type": "code",
   "execution_count": 15,
   "metadata": {},
   "outputs": [
    {
     "name": "stdout",
     "output_type": "stream",
     "text": [
      "0\n",
      "2\n",
      "3\n",
      "4\n",
      "5\n",
      "-1\n"
     ]
    }
   ],
   "source": [
    "Li = {0:100, 2:1000,3:120,4:400,5:50,-1:22}\n",
    "\n",
    "for i in Li:\n",
    "    print(i)"
   ]
  },
  {
   "cell_type": "code",
   "execution_count": 16,
   "metadata": {},
   "outputs": [
    {
     "name": "stdout",
     "output_type": "stream",
     "text": [
      "0\n",
      "2\n",
      "3\n",
      "4\n",
      "5\n",
      "-1\n"
     ]
    }
   ],
   "source": [
    "Li = {0:100, 2:1000,3:120,4:400,5:50,-1:22}\n",
    "\n",
    "for i in Li.keys():\n",
    "    print(i)"
   ]
  },
  {
   "cell_type": "code",
   "execution_count": 17,
   "metadata": {},
   "outputs": [
    {
     "name": "stdout",
     "output_type": "stream",
     "text": [
      "100\n",
      "1000\n",
      "120\n",
      "400\n",
      "50\n",
      "22\n"
     ]
    }
   ],
   "source": [
    "Li = {0:100, 2:1000,3:120,4:400,5:50,-1:22}\n",
    "\n",
    "for i in Li.values():\n",
    "    print(i)"
   ]
  },
  {
   "cell_type": "code",
   "execution_count": 18,
   "metadata": {},
   "outputs": [
    {
     "name": "stdout",
     "output_type": "stream",
     "text": [
      "(0, 100)\n",
      "(2, 1000)\n",
      "(3, 120)\n",
      "(4, 400)\n",
      "(5, 50)\n",
      "(-1, 22)\n"
     ]
    }
   ],
   "source": [
    "Li = {0:100, 2:1000,3:120,4:400,5:50,-1:22}\n",
    "\n",
    "for i in Li.items():\n",
    "    print(i)"
   ]
  },
  {
   "cell_type": "code",
   "execution_count": 20,
   "metadata": {},
   "outputs": [
    {
     "name": "stdout",
     "output_type": "stream",
     "text": [
      "0\n",
      "100\n",
      "2\n",
      "1000\n",
      "3\n",
      "120\n",
      "4\n",
      "400\n",
      "5\n",
      "50\n",
      "-1\n",
      "22\n"
     ]
    }
   ],
   "source": [
    "Li = {0:100, 2:1000,3:120,4:400,5:50,-1:22}\n",
    "\n",
    "for i in Li:\n",
    "    print(i)\n",
    "    print(Li[i])"
   ]
  },
  {
   "cell_type": "code",
   "execution_count": 21,
   "metadata": {},
   "outputs": [
    {
     "name": "stdout",
     "output_type": "stream",
     "text": [
      "p\n",
      "y\n",
      "t\n",
      "h\n",
      "o\n",
      "n\n"
     ]
    }
   ],
   "source": [
    "a = \"python\"\n",
    "\n",
    "for i in a:\n",
    "    print(i)"
   ]
  },
  {
   "cell_type": "code",
   "execution_count": null,
   "metadata": {},
   "outputs": [],
   "source": [
    "#while loop\n",
    "\n",
    "#condition or boolean Data type"
   ]
  },
  {
   "cell_type": "code",
   "execution_count": 23,
   "metadata": {},
   "outputs": [
    {
     "name": "stdout",
     "output_type": "stream",
     "text": [
      "10\n",
      "9\n",
      "8\n",
      "7\n",
      "6\n",
      "5\n",
      "4\n",
      "3\n",
      "2\n",
      "1\n"
     ]
    }
   ],
   "source": [
    "a = 10\n",
    "\n",
    "while a > 0:\n",
    "    print(a)\n",
    "    a = a - 1 #Infinite Loop"
   ]
  },
  {
   "cell_type": "code",
   "execution_count": null,
   "metadata": {},
   "outputs": [],
   "source": [
    "a = 10\n",
    "Li1 = [6,7,8,9,10]\n",
    "\n",
    "\n",
    "while a in Li1:\n",
    "    print(\"successful\")"
   ]
  },
  {
   "cell_type": "code",
   "execution_count": null,
   "metadata": {},
   "outputs": [],
   "source": [
    "while True:\n",
    "    print(\"Success\")"
   ]
  },
  {
   "cell_type": "code",
   "execution_count": null,
   "metadata": {},
   "outputs": [],
   "source": [
    "#Break and continue\n",
    "\n",
    "#Break come out of loop permam=nenly \n",
    "\n",
    "#Continue come out temper\n",
    "\n"
   ]
  },
  {
   "cell_type": "code",
   "execution_count": 25,
   "metadata": {},
   "outputs": [
    {
     "name": "stdout",
     "output_type": "stream",
     "text": [
      "0\n",
      "1\n",
      "2\n",
      "3\n",
      "4\n"
     ]
    }
   ],
   "source": [
    "for i in range(10):\n",
    "    if i == 5:\n",
    "        break #come out permanently\n",
    "    print(i)\n",
    "    \n",
    "    "
   ]
  },
  {
   "cell_type": "code",
   "execution_count": 27,
   "metadata": {},
   "outputs": [
    {
     "name": "stdout",
     "output_type": "stream",
     "text": [
      "0\n",
      "1\n",
      "2\n",
      "3\n",
      "4\n",
      "6\n",
      "7\n",
      "9\n"
     ]
    }
   ],
   "source": [
    "for i in range(10):\n",
    "    if i == 5 or i == 8:\n",
    "        continue #come out temperorily\n",
    "    print(i)\n",
    "    "
   ]
  },
  {
   "cell_type": "code",
   "execution_count": 24,
   "metadata": {},
   "outputs": [
    {
     "name": "stdout",
     "output_type": "stream",
     "text": [
      "0\n",
      "1\n",
      "2\n",
      "3\n",
      "4\n",
      "5\n",
      "6\n",
      "7\n",
      "8\n",
      "9\n"
     ]
    }
   ],
   "source": [
    "for i in range(10):\n",
    "    if i == 5:\n",
    "        pass #Line filler #Indendation filler\n",
    "    print(i)\n",
    "    "
   ]
  },
  {
   "cell_type": "code",
   "execution_count": 28,
   "metadata": {},
   "outputs": [
    {
     "name": "stdout",
     "output_type": "stream",
     "text": [
      "100\n"
     ]
    }
   ],
   "source": [
    "a = 100\n",
    "\n",
    "#with variable\n",
    "while a:\n",
    "    print(a)\n",
    "    break\n",
    "    \n",
    "    "
   ]
  },
  {
   "cell_type": "code",
   "execution_count": 30,
   "metadata": {},
   "outputs": [
    {
     "name": "stdout",
     "output_type": "stream",
     "text": [
      "True\n"
     ]
    },
    {
     "ename": "NameError",
     "evalue": "name 'v' is not defined",
     "output_type": "error",
     "traceback": [
      "\u001b[1;31m---------------------------------------------------------------------------\u001b[0m",
      "\u001b[1;31mNameError\u001b[0m                                 Traceback (most recent call last)",
      "\u001b[1;32m<ipython-input-30-e0dbb9d79e2f>\u001b[0m in \u001b[0;36m<module>\u001b[1;34m\u001b[0m\n\u001b[0;32m      1\u001b[0m \u001b[0mprint\u001b[0m\u001b[1;33m(\u001b[0m\u001b[0mbool\u001b[0m\u001b[1;33m(\u001b[0m\u001b[0ma\u001b[0m\u001b[1;33m)\u001b[0m\u001b[1;33m)\u001b[0m\u001b[1;33m\u001b[0m\u001b[1;33m\u001b[0m\u001b[0m\n\u001b[1;32m----> 2\u001b[1;33m \u001b[0mprint\u001b[0m\u001b[1;33m(\u001b[0m\u001b[0mbool\u001b[0m\u001b[1;33m(\u001b[0m\u001b[0mv\u001b[0m\u001b[1;33m)\u001b[0m\u001b[1;33m)\u001b[0m\u001b[1;33m\u001b[0m\u001b[1;33m\u001b[0m\u001b[0m\n\u001b[0m",
      "\u001b[1;31mNameError\u001b[0m: name 'v' is not defined"
     ]
    }
   ],
   "source": [
    "print(bool(a))\n",
    "print(bool(v))"
   ]
  },
  {
   "cell_type": "code",
   "execution_count": null,
   "metadata": {},
   "outputs": [],
   "source": [
    "#For else\n",
    "\n",
    "\n",
    "for i in range(10):\n",
    "    if i == 8:\n",
    "        break\n",
    "else:\n",
    "    print(\"Complete loop executed with out break\")"
   ]
  },
  {
   "cell_type": "code",
   "execution_count": 31,
   "metadata": {},
   "outputs": [
    {
     "name": "stdout",
     "output_type": "stream",
     "text": [
      "8\n",
      "Complete loop executed with out break\n"
     ]
    }
   ],
   "source": [
    "\n",
    "for i in range(10):\n",
    "    if i == 8:\n",
    "        print(i)\n",
    "else:\n",
    "    print(\"Complete loop executed with out break\")"
   ]
  },
  {
   "cell_type": "code",
   "execution_count": 32,
   "metadata": {},
   "outputs": [
    {
     "name": "stdout",
     "output_type": "stream",
     "text": [
      "10\n",
      "9\n",
      "8\n",
      "7\n",
      "6\n",
      "5\n",
      "4\n",
      "3\n",
      "2\n",
      "1\n",
      "All the values are executed\n"
     ]
    }
   ],
   "source": [
    "#while else\n",
    "\n",
    "a = 10\n",
    "\n",
    "while a > 0:\n",
    "    print(a)\n",
    "    a = a - 1 #Infinite Loop\n",
    "else:\n",
    "    print(\"All the values are executed\")"
   ]
  },
  {
   "cell_type": "code",
   "execution_count": 33,
   "metadata": {},
   "outputs": [
    {
     "name": "stdout",
     "output_type": "stream",
     "text": [
      "10\n",
      "9\n",
      "8\n",
      "7\n",
      "6\n"
     ]
    }
   ],
   "source": [
    "a = 10\n",
    "\n",
    "while a > 0:\n",
    "    print(a)\n",
    "    a = a - 1 #Infinite Loop\n",
    "    if a == 5:\n",
    "        break\n",
    "else:\n",
    "    print(\"All the values are executed\")"
   ]
  },
  {
   "cell_type": "code",
   "execution_count": null,
   "metadata": {},
   "outputs": [],
   "source": [
    "For else ===> break else"
   ]
  },
  {
   "cell_type": "code",
   "execution_count": 2,
   "metadata": {},
   "outputs": [
    {
     "name": "stdout",
     "output_type": "stream",
     "text": [
      "please enter number of elements: 5\n",
      "please enter element no1: 3\n",
      "please enter element no2: 5\n",
      "please enter element no3: 7\n",
      "please enter element no4: 9\n",
      "please enter element no5: 0\n",
      "[3, 5, 7, 9, 0]\n"
     ]
    }
   ],
   "source": [
    "#Collect a list from user:\n",
    "\n",
    "n = int(input(\"please enter number of elements: \"))\n",
    "Li = []\n",
    "\n",
    "for i in range(n):\n",
    "    value = int(input(\"please enter element no\"+str(i+1)+\": \"))\n",
    "    Li.append(value)\n",
    "\n",
    "print(Li)"
   ]
  },
  {
   "cell_type": "code",
   "execution_count": 3,
   "metadata": {},
   "outputs": [
    {
     "name": "stdout",
     "output_type": "stream",
     "text": [
      "please enter number of elements: 5\n",
      "please enter element no4\n",
      "please enter element no6\n",
      "please enter element no7\n",
      "please enter element no10\n",
      "please enter element no3\n",
      "[4, 6, 7, 10, 3]\n"
     ]
    }
   ],
   "source": [
    "\n",
    "n = int(input(\"please enter number of elements: \"))\n",
    "Li = []\n",
    "\n",
    "for i in range(n):\n",
    "    value = int(input(\"please enter element no\"))\n",
    "    Li.append(value)\n",
    "\n",
    "print(Li)"
   ]
  },
  {
   "cell_type": "code",
   "execution_count": 4,
   "metadata": {},
   "outputs": [
    {
     "name": "stdout",
     "output_type": "stream",
     "text": [
      "please enter number of elements: 5\n",
      "please enter key no1: 5\n",
      "please enter value no1: python\n",
      "please enter key no2: 3\n",
      "please enter value no2: cpp\n",
      "please enter key no3: 6\n",
      "please enter value no3: java\n",
      "please enter key no4: 7\n",
      "please enter value no4: groovy\n",
      "please enter key no5: 8\n",
      "please enter value no5: go\n",
      "{5: 'python', 3: 'cpp', 6: 'java', 7: 'groovy', 8: 'go'}\n"
     ]
    }
   ],
   "source": [
    "#Collect a dictionary from user\n",
    "\n",
    "n = int(input(\"please enter number of elements: \"))\n",
    "Li = {}\n",
    "\n",
    "for i in range(n):\n",
    "    key = int(input(\"please enter key no\"+str(i+1)+\": \"))\n",
    "    value = input(\"please enter value no\"+str(i+1)+\": \")\n",
    "    Li[key] = value\n",
    "\n",
    "print(Li)"
   ]
  },
  {
   "cell_type": "code",
   "execution_count": 7,
   "metadata": {},
   "outputs": [
    {
     "name": "stdout",
     "output_type": "stream",
     "text": [
      "please enter string1: java\n",
      "please enter string2: python\n",
      "2\n",
      "1\n",
      "vowel count is not equal\n"
     ]
    }
   ],
   "source": [
    "#two strings from user\n",
    "\n",
    "#mathematics ===> 4 vowels\n",
    "#science ==> 3 vowels\n",
    "\n",
    "\n",
    "\n",
    "str1 = input(\"please enter string1: \")\n",
    "str2 = input(\"please enter string2: \")\n",
    "\n",
    "str1_vowel_count = 0\n",
    "str2_vowel_count = 0\n",
    "\n",
    "\n",
    "for i in str1:\n",
    "    if i in \"aeiou\":\n",
    "        str1_vowel_count = str1_vowel_count + 1\n",
    "        \n",
    "for i in str2:\n",
    "    if i in \"aeiou\":\n",
    "        str2_vowel_count = str2_vowel_count + 1\n",
    "        \n",
    "print(str1_vowel_count)\n",
    "print(str2_vowel_count)\n",
    "\n",
    "if str1_vowel_count == str2_vowel_count:\n",
    "    print(\"vowel count is equal\")\n",
    "else:\n",
    "    print(\"vowel count is not equal\")"
   ]
  },
  {
   "cell_type": "code",
   "execution_count": 10,
   "metadata": {},
   "outputs": [
    {
     "name": "stdout",
     "output_type": "stream",
     "text": [
      "please enter string1: python\n",
      "please enter string2: java\n",
      "1\n",
      "2\n",
      "vowel count is not equal\n"
     ]
    }
   ],
   "source": [
    "\n",
    "str1 = input(\"please enter string1: \")\n",
    "str2 = input(\"please enter string2: \")\n",
    "\n",
    "str1 = str1.lower()\n",
    "str2 = str2.lower()\n",
    "\n",
    "str1_vowel_count = 0\n",
    "str2_vowel_count = 0\n",
    "\n",
    "str1_vowel_count = str1.count(\"a\") + str1.count(\"e\") + str1.count(\"i\") + str1.count(\"o\") + str1.count(\"u\")\n",
    "str2_vowel_count = str2.count(\"a\") + str2.count(\"e\") + str2.count(\"i\") + str2.count(\"o\") + str2.count(\"u\")\n",
    "\n",
    "        \n",
    "print(str1_vowel_count)\n",
    "print(str2_vowel_count)\n",
    "\n",
    "if str1_vowel_count == str2_vowel_count:\n",
    "    print(\"vowel count is equal\")\n",
    "else:\n",
    "    print(\"vowel count is not equal\")"
   ]
  },
  {
   "cell_type": "code",
   "execution_count": null,
   "metadata": {},
   "outputs": [],
   "source": []
  }
 ],
 "metadata": {
  "kernelspec": {
   "display_name": "Python 3",
   "language": "python",
   "name": "python3"
  },
  "language_info": {
   "codemirror_mode": {
    "name": "ipython",
    "version": 3
   },
   "file_extension": ".py",
   "mimetype": "text/x-python",
   "name": "python",
   "nbconvert_exporter": "python",
   "pygments_lexer": "ipython3",
   "version": "3.7.6"
  }
 },
 "nbformat": 4,
 "nbformat_minor": 4
}
